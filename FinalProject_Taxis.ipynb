{
  "nbformat": 4,
  "nbformat_minor": 0,
  "metadata": {
    "colab": {
      "name": "FinalProject_Taxis.ipynb",
      "provenance": [],
      "collapsed_sections": [],
      "toc_visible": true
    },
    "kernelspec": {
      "name": "python3",
      "display_name": "Python 3"
    },
    "accelerator": "GPU"
  },
  "cells": [
    {
      "cell_type": "markdown",
      "metadata": {
        "colab_type": "text",
        "id": "8XHle-lLB3cO"
      },
      "source": [
        "## Check missing data"
      ]
    },
    {
      "cell_type": "markdown",
      "metadata": {
        "id": "COobrKASudvs",
        "colab_type": "text"
      },
      "source": [
        "# Import Data and APIs"
      ]
    },
    {
      "cell_type": "markdown",
      "metadata": {
        "id": "59MnlDV1xmn5",
        "colab_type": "text"
      },
      "source": [
        "## Download Data from Kaggle API"
      ]
    },
    {
      "cell_type": "code",
      "metadata": {
        "id": "KbV90ksBqx0E",
        "colab_type": "code",
        "outputId": "45cf3918-bb27-47dd-ed10-eab816c8df84",
        "colab": {
          "resources": {
            "http://localhost:8080/nbextensions/google.colab/files.js": {
              "data": "Ly8gQ29weXJpZ2h0IDIwMTcgR29vZ2xlIExMQwovLwovLyBMaWNlbnNlZCB1bmRlciB0aGUgQXBhY2hlIExpY2Vuc2UsIFZlcnNpb24gMi4wICh0aGUgIkxpY2Vuc2UiKTsKLy8geW91IG1heSBub3QgdXNlIHRoaXMgZmlsZSBleGNlcHQgaW4gY29tcGxpYW5jZSB3aXRoIHRoZSBMaWNlbnNlLgovLyBZb3UgbWF5IG9idGFpbiBhIGNvcHkgb2YgdGhlIExpY2Vuc2UgYXQKLy8KLy8gICAgICBodHRwOi8vd3d3LmFwYWNoZS5vcmcvbGljZW5zZXMvTElDRU5TRS0yLjAKLy8KLy8gVW5sZXNzIHJlcXVpcmVkIGJ5IGFwcGxpY2FibGUgbGF3IG9yIGFncmVlZCB0byBpbiB3cml0aW5nLCBzb2Z0d2FyZQovLyBkaXN0cmlidXRlZCB1bmRlciB0aGUgTGljZW5zZSBpcyBkaXN0cmlidXRlZCBvbiBhbiAiQVMgSVMiIEJBU0lTLAovLyBXSVRIT1VUIFdBUlJBTlRJRVMgT1IgQ09ORElUSU9OUyBPRiBBTlkgS0lORCwgZWl0aGVyIGV4cHJlc3Mgb3IgaW1wbGllZC4KLy8gU2VlIHRoZSBMaWNlbnNlIGZvciB0aGUgc3BlY2lmaWMgbGFuZ3VhZ2UgZ292ZXJuaW5nIHBlcm1pc3Npb25zIGFuZAovLyBsaW1pdGF0aW9ucyB1bmRlciB0aGUgTGljZW5zZS4KCi8qKgogKiBAZmlsZW92ZXJ2aWV3IEhlbHBlcnMgZm9yIGdvb2dsZS5jb2xhYiBQeXRob24gbW9kdWxlLgogKi8KKGZ1bmN0aW9uKHNjb3BlKSB7CmZ1bmN0aW9uIHNwYW4odGV4dCwgc3R5bGVBdHRyaWJ1dGVzID0ge30pIHsKICBjb25zdCBlbGVtZW50ID0gZG9jdW1lbnQuY3JlYXRlRWxlbWVudCgnc3BhbicpOwogIGVsZW1lbnQudGV4dENvbnRlbnQgPSB0ZXh0OwogIGZvciAoY29uc3Qga2V5IG9mIE9iamVjdC5rZXlzKHN0eWxlQXR0cmlidXRlcykpIHsKICAgIGVsZW1lbnQuc3R5bGVba2V5XSA9IHN0eWxlQXR0cmlidXRlc1trZXldOwogIH0KICByZXR1cm4gZWxlbWVudDsKfQoKLy8gTWF4IG51bWJlciBvZiBieXRlcyB3aGljaCB3aWxsIGJlIHVwbG9hZGVkIGF0IGEgdGltZS4KY29uc3QgTUFYX1BBWUxPQURfU0laRSA9IDEwMCAqIDEwMjQ7Ci8vIE1heCBhbW91bnQgb2YgdGltZSB0byBibG9jayB3YWl0aW5nIGZvciB0aGUgdXNlci4KY29uc3QgRklMRV9DSEFOR0VfVElNRU9VVF9NUyA9IDMwICogMTAwMDsKCmZ1bmN0aW9uIF91cGxvYWRGaWxlcyhpbnB1dElkLCBvdXRwdXRJZCkgewogIGNvbnN0IHN0ZXBzID0gdXBsb2FkRmlsZXNTdGVwKGlucHV0SWQsIG91dHB1dElkKTsKICBjb25zdCBvdXRwdXRFbGVtZW50ID0gZG9jdW1lbnQuZ2V0RWxlbWVudEJ5SWQob3V0cHV0SWQpOwogIC8vIENhY2hlIHN0ZXBzIG9uIHRoZSBvdXRwdXRFbGVtZW50IHRvIG1ha2UgaXQgYXZhaWxhYmxlIGZvciB0aGUgbmV4dCBjYWxsCiAgLy8gdG8gdXBsb2FkRmlsZXNDb250aW51ZSBmcm9tIFB5dGhvbi4KICBvdXRwdXRFbGVtZW50LnN0ZXBzID0gc3RlcHM7CgogIHJldHVybiBfdXBsb2FkRmlsZXNDb250aW51ZShvdXRwdXRJZCk7Cn0KCi8vIFRoaXMgaXMgcm91Z2hseSBhbiBhc3luYyBnZW5lcmF0b3IgKG5vdCBzdXBwb3J0ZWQgaW4gdGhlIGJyb3dzZXIgeWV0KSwKLy8gd2hlcmUgdGhlcmUgYXJlIG11bHRpcGxlIGFzeW5jaHJvbm91cyBzdGVwcyBhbmQgdGhlIFB5dGhvbiBzaWRlIGlzIGdvaW5nCi8vIHRvIHBvbGwgZm9yIGNvbXBsZXRpb24gb2YgZWFjaCBzdGVwLgovLyBUaGlzIHVzZXMgYSBQcm9taXNlIHRvIGJsb2NrIHRoZSBweXRob24gc2lkZSBvbiBjb21wbGV0aW9uIG9mIGVhY2ggc3RlcCwKLy8gdGhlbiBwYXNzZXMgdGhlIHJlc3VsdCBvZiB0aGUgcHJldmlvdXMgc3RlcCBhcyB0aGUgaW5wdXQgdG8gdGhlIG5leHQgc3RlcC4KZnVuY3Rpb24gX3VwbG9hZEZpbGVzQ29udGludWUob3V0cHV0SWQpIHsKICBjb25zdCBvdXRwdXRFbGVtZW50ID0gZG9jdW1lbnQuZ2V0RWxlbWVudEJ5SWQob3V0cHV0SWQpOwogIGNvbnN0IHN0ZXBzID0gb3V0cHV0RWxlbWVudC5zdGVwczsKCiAgY29uc3QgbmV4dCA9IHN0ZXBzLm5leHQob3V0cHV0RWxlbWVudC5sYXN0UHJvbWlzZVZhbHVlKTsKICByZXR1cm4gUHJvbWlzZS5yZXNvbHZlKG5leHQudmFsdWUucHJvbWlzZSkudGhlbigodmFsdWUpID0+IHsKICAgIC8vIENhY2hlIHRoZSBsYXN0IHByb21pc2UgdmFsdWUgdG8gbWFrZSBpdCBhdmFpbGFibGUgdG8gdGhlIG5leHQKICAgIC8vIHN0ZXAgb2YgdGhlIGdlbmVyYXRvci4KICAgIG91dHB1dEVsZW1lbnQubGFzdFByb21pc2VWYWx1ZSA9IHZhbHVlOwogICAgcmV0dXJuIG5leHQudmFsdWUucmVzcG9uc2U7CiAgfSk7Cn0KCi8qKgogKiBHZW5lcmF0b3IgZnVuY3Rpb24gd2hpY2ggaXMgY2FsbGVkIGJldHdlZW4gZWFjaCBhc3luYyBzdGVwIG9mIHRoZSB1cGxvYWQKICogcHJvY2Vzcy4KICogQHBhcmFtIHtzdHJpbmd9IGlucHV0SWQgRWxlbWVudCBJRCBvZiB0aGUgaW5wdXQgZmlsZSBwaWNrZXIgZWxlbWVudC4KICogQHBhcmFtIHtzdHJpbmd9IG91dHB1dElkIEVsZW1lbnQgSUQgb2YgdGhlIG91dHB1dCBkaXNwbGF5LgogKiBAcmV0dXJuIHshSXRlcmFibGU8IU9iamVjdD59IEl0ZXJhYmxlIG9mIG5leHQgc3RlcHMuCiAqLwpmdW5jdGlvbiogdXBsb2FkRmlsZXNTdGVwKGlucHV0SWQsIG91dHB1dElkKSB7CiAgY29uc3QgaW5wdXRFbGVtZW50ID0gZG9jdW1lbnQuZ2V0RWxlbWVudEJ5SWQoaW5wdXRJZCk7CiAgaW5wdXRFbGVtZW50LmRpc2FibGVkID0gZmFsc2U7CgogIGNvbnN0IG91dHB1dEVsZW1lbnQgPSBkb2N1bWVudC5nZXRFbGVtZW50QnlJZChvdXRwdXRJZCk7CiAgb3V0cHV0RWxlbWVudC5pbm5lckhUTUwgPSAnJzsKCiAgY29uc3QgcGlja2VkUHJvbWlzZSA9IG5ldyBQcm9taXNlKChyZXNvbHZlKSA9PiB7CiAgICBpbnB1dEVsZW1lbnQuYWRkRXZlbnRMaXN0ZW5lcignY2hhbmdlJywgKGUpID0+IHsKICAgICAgcmVzb2x2ZShlLnRhcmdldC5maWxlcyk7CiAgICB9KTsKICB9KTsKCiAgY29uc3QgY2FuY2VsID0gZG9jdW1lbnQuY3JlYXRlRWxlbWVudCgnYnV0dG9uJyk7CiAgaW5wdXRFbGVtZW50LnBhcmVudEVsZW1lbnQuYXBwZW5kQ2hpbGQoY2FuY2VsKTsKICBjYW5jZWwudGV4dENvbnRlbnQgPSAnQ2FuY2VsIHVwbG9hZCc7CiAgY29uc3QgY2FuY2VsUHJvbWlzZSA9IG5ldyBQcm9taXNlKChyZXNvbHZlKSA9PiB7CiAgICBjYW5jZWwub25jbGljayA9ICgpID0+IHsKICAgICAgcmVzb2x2ZShudWxsKTsKICAgIH07CiAgfSk7CgogIC8vIENhbmNlbCB1cGxvYWQgaWYgdXNlciBoYXNuJ3QgcGlja2VkIGFueXRoaW5nIGluIHRpbWVvdXQuCiAgY29uc3QgdGltZW91dFByb21pc2UgPSBuZXcgUHJvbWlzZSgocmVzb2x2ZSkgPT4gewogICAgc2V0VGltZW91dCgoKSA9PiB7CiAgICAgIHJlc29sdmUobnVsbCk7CiAgICB9LCBGSUxFX0NIQU5HRV9USU1FT1VUX01TKTsKICB9KTsKCiAgLy8gV2FpdCBmb3IgdGhlIHVzZXIgdG8gcGljayB0aGUgZmlsZXMuCiAgY29uc3QgZmlsZXMgPSB5aWVsZCB7CiAgICBwcm9taXNlOiBQcm9taXNlLnJhY2UoW3BpY2tlZFByb21pc2UsIHRpbWVvdXRQcm9taXNlLCBjYW5jZWxQcm9taXNlXSksCiAgICByZXNwb25zZTogewogICAgICBhY3Rpb246ICdzdGFydGluZycsCiAgICB9CiAgfTsKCiAgaWYgKCFmaWxlcykgewogICAgcmV0dXJuIHsKICAgICAgcmVzcG9uc2U6IHsKICAgICAgICBhY3Rpb246ICdjb21wbGV0ZScsCiAgICAgIH0KICAgIH07CiAgfQoKICBjYW5jZWwucmVtb3ZlKCk7CgogIC8vIERpc2FibGUgdGhlIGlucHV0IGVsZW1lbnQgc2luY2UgZnVydGhlciBwaWNrcyBhcmUgbm90IGFsbG93ZWQuCiAgaW5wdXRFbGVtZW50LmRpc2FibGVkID0gdHJ1ZTsKCiAgZm9yIChjb25zdCBmaWxlIG9mIGZpbGVzKSB7CiAgICBjb25zdCBsaSA9IGRvY3VtZW50LmNyZWF0ZUVsZW1lbnQoJ2xpJyk7CiAgICBsaS5hcHBlbmQoc3BhbihmaWxlLm5hbWUsIHtmb250V2VpZ2h0OiAnYm9sZCd9KSk7CiAgICBsaS5hcHBlbmQoc3BhbigKICAgICAgICBgKCR7ZmlsZS50eXBlIHx8ICduL2EnfSkgLSAke2ZpbGUuc2l6ZX0gYnl0ZXMsIGAgKwogICAgICAgIGBsYXN0IG1vZGlmaWVkOiAkewogICAgICAgICAgICBmaWxlLmxhc3RNb2RpZmllZERhdGUgPyBmaWxlLmxhc3RNb2RpZmllZERhdGUudG9Mb2NhbGVEYXRlU3RyaW5nKCkgOgogICAgICAgICAgICAgICAgICAgICAgICAgICAgICAgICAgICAnbi9hJ30gLSBgKSk7CiAgICBjb25zdCBwZXJjZW50ID0gc3BhbignMCUgZG9uZScpOwogICAgbGkuYXBwZW5kQ2hpbGQocGVyY2VudCk7CgogICAgb3V0cHV0RWxlbWVudC5hcHBlbmRDaGlsZChsaSk7CgogICAgY29uc3QgZmlsZURhdGFQcm9taXNlID0gbmV3IFByb21pc2UoKHJlc29sdmUpID0+IHsKICAgICAgY29uc3QgcmVhZGVyID0gbmV3IEZpbGVSZWFkZXIoKTsKICAgICAgcmVhZGVyLm9ubG9hZCA9IChlKSA9PiB7CiAgICAgICAgcmVzb2x2ZShlLnRhcmdldC5yZXN1bHQpOwogICAgICB9OwogICAgICByZWFkZXIucmVhZEFzQXJyYXlCdWZmZXIoZmlsZSk7CiAgICB9KTsKICAgIC8vIFdhaXQgZm9yIHRoZSBkYXRhIHRvIGJlIHJlYWR5LgogICAgbGV0IGZpbGVEYXRhID0geWllbGQgewogICAgICBwcm9taXNlOiBmaWxlRGF0YVByb21pc2UsCiAgICAgIHJlc3BvbnNlOiB7CiAgICAgICAgYWN0aW9uOiAnY29udGludWUnLAogICAgICB9CiAgICB9OwoKICAgIC8vIFVzZSBhIGNodW5rZWQgc2VuZGluZyB0byBhdm9pZCBtZXNzYWdlIHNpemUgbGltaXRzLiBTZWUgYi82MjExNTY2MC4KICAgIGxldCBwb3NpdGlvbiA9IDA7CiAgICB3aGlsZSAocG9zaXRpb24gPCBmaWxlRGF0YS5ieXRlTGVuZ3RoKSB7CiAgICAgIGNvbnN0IGxlbmd0aCA9IE1hdGgubWluKGZpbGVEYXRhLmJ5dGVMZW5ndGggLSBwb3NpdGlvbiwgTUFYX1BBWUxPQURfU0laRSk7CiAgICAgIGNvbnN0IGNodW5rID0gbmV3IFVpbnQ4QXJyYXkoZmlsZURhdGEsIHBvc2l0aW9uLCBsZW5ndGgpOwogICAgICBwb3NpdGlvbiArPSBsZW5ndGg7CgogICAgICBjb25zdCBiYXNlNjQgPSBidG9hKFN0cmluZy5mcm9tQ2hhckNvZGUuYXBwbHkobnVsbCwgY2h1bmspKTsKICAgICAgeWllbGQgewogICAgICAgIHJlc3BvbnNlOiB7CiAgICAgICAgICBhY3Rpb246ICdhcHBlbmQnLAogICAgICAgICAgZmlsZTogZmlsZS5uYW1lLAogICAgICAgICAgZGF0YTogYmFzZTY0LAogICAgICAgIH0sCiAgICAgIH07CiAgICAgIHBlcmNlbnQudGV4dENvbnRlbnQgPQogICAgICAgICAgYCR7TWF0aC5yb3VuZCgocG9zaXRpb24gLyBmaWxlRGF0YS5ieXRlTGVuZ3RoKSAqIDEwMCl9JSBkb25lYDsKICAgIH0KICB9CgogIC8vIEFsbCBkb25lLgogIHlpZWxkIHsKICAgIHJlc3BvbnNlOiB7CiAgICAgIGFjdGlvbjogJ2NvbXBsZXRlJywKICAgIH0KICB9Owp9CgpzY29wZS5nb29nbGUgPSBzY29wZS5nb29nbGUgfHwge307CnNjb3BlLmdvb2dsZS5jb2xhYiA9IHNjb3BlLmdvb2dsZS5jb2xhYiB8fCB7fTsKc2NvcGUuZ29vZ2xlLmNvbGFiLl9maWxlcyA9IHsKICBfdXBsb2FkRmlsZXMsCiAgX3VwbG9hZEZpbGVzQ29udGludWUsCn07Cn0pKHNlbGYpOwo=",
              "ok": true,
              "headers": [
                [
                  "content-type",
                  "application/javascript"
                ]
              ],
              "status": 200,
              "status_text": ""
            }
          },
          "base_uri": "https://localhost:8080/",
          "height": 41
        }
      },
      "source": [
        "# Import tools to access Kaggle identity keys.\n",
        "from google.colab import drive \n",
        "from google.colab import files \n",
        "uploaded = files.upload()"
      ],
      "execution_count": 0,
      "outputs": [
        {
          "output_type": "display_data",
          "data": {
            "text/html": [
              "\n",
              "     <input type=\"file\" id=\"files-2992293d-edba-42c8-9250-a7b6df38b8a3\" name=\"files[]\" multiple disabled />\n",
              "     <output id=\"result-2992293d-edba-42c8-9250-a7b6df38b8a3\">\n",
              "      Upload widget is only available when the cell has been executed in the\n",
              "      current browser session. Please rerun this cell to enable.\n",
              "      </output>\n",
              "      <script src=\"/nbextensions/google.colab/files.js\"></script> "
            ],
            "text/plain": [
              "<IPython.core.display.HTML object>"
            ]
          },
          "metadata": {
            "tags": []
          }
        }
      ]
    },
    {
      "cell_type": "code",
      "metadata": {
        "id": "h2kxUQzFrMUO",
        "colab_type": "code",
        "outputId": "fe4b0a36-95d6-4b66-bc7b-a4ff1f79aa3f",
        "colab": {
          "base_uri": "https://localhost:8080/",
          "height": 148
        }
      },
      "source": [
        "!mkdir -p ~/.kaggle # Makes a directory in home folder named kaggle \n",
        "!cp kaggle.json ~/.kaggle/ # Copies the contents of kaggle.jason into the home/kaggle folder\n",
        "!apt-get install p7zip-full # Installs p7zip-full tool"
      ],
      "execution_count": 0,
      "outputs": [
        {
          "output_type": "stream",
          "text": [
            "Reading package lists... Done\n",
            "Building dependency tree       \n",
            "Reading state information... Done\n",
            "p7zip-full is already the newest version (16.02+dfsg-6).\n",
            "The following package was automatically installed and is no longer required:\n",
            "  libnvidia-common-430\n",
            "Use 'apt autoremove' to remove it.\n",
            "0 upgraded, 0 newly installed, 0 to remove and 7 not upgraded.\n"
          ],
          "name": "stdout"
        }
      ]
    },
    {
      "cell_type": "code",
      "metadata": {
        "id": "FkGG_fKrsCst",
        "colab_type": "code",
        "colab": {}
      },
      "source": [
        "# Use the Python pip install command to install the Kaggle library\n",
        "!pip install -q kaggle "
      ],
      "execution_count": 0,
      "outputs": []
    },
    {
      "cell_type": "code",
      "metadata": {
        "id": "fnEz8IVSr5H9",
        "colab_type": "code",
        "outputId": "3c799dbf-72f7-4157-e7e8-8341a4ea20b5",
        "colab": {
          "base_uri": "https://localhost:8080/",
          "height": 217
        }
      },
      "source": [
        "# This code downloads the dataset from kaggle\n",
        "!kaggle competitions download -c nyc-taxi-trip-duration"
      ],
      "execution_count": 0,
      "outputs": [
        {
          "output_type": "stream",
          "text": [
            "Warning: Your Kaggle API key is readable by other users on this system! To fix this, you can run 'chmod 600 /root/.kaggle/kaggle.json'\n",
            "Warning: Looks like you're using an outdated API Version, please consider updating (server 1.5.6 / client 1.5.4)\n",
            "Downloading sample_submission.zip to /content\n",
            "  0% 0.00/2.49M [00:00<?, ?B/s]\n",
            "100% 2.49M/2.49M [00:00<00:00, 82.6MB/s]\n",
            "Downloading train.zip to /content\n",
            " 83% 52.0M/62.9M [00:00<00:00, 49.1MB/s]\n",
            "100% 62.9M/62.9M [00:00<00:00, 107MB/s] \n",
            "Downloading test.zip to /content\n",
            " 25% 5.00M/20.3M [00:00<00:00, 24.9MB/s]\n",
            "100% 20.3M/20.3M [00:00<00:00, 67.9MB/s]\n"
          ],
          "name": "stdout"
        }
      ]
    },
    {
      "cell_type": "code",
      "metadata": {
        "id": "g8shQPkltkyM",
        "colab_type": "code",
        "outputId": "2a04d341-6f03-49d9-ef6a-a9f5676d348e",
        "colab": {
          "base_uri": "https://localhost:8080/",
          "height": 316
        }
      },
      "source": [
        "# This extracts the test data from kaggle download\n",
        "!7za e test.zip"
      ],
      "execution_count": 0,
      "outputs": [
        {
          "output_type": "stream",
          "text": [
            "\n",
            "7-Zip (a) [64] 16.02 : Copyright (c) 1999-2016 Igor Pavlov : 2016-05-21\n",
            "p7zip Version 16.02 (locale=en_US.UTF-8,Utf16=on,HugeFiles=on,64 bits,2 CPUs Intel(R) Xeon(R) CPU @ 2.20GHz (406F0),ASM,AES-NI)\n",
            "\n",
            "Scanning the drive for archives:\n",
            "  0M Scan\b\b\b\b\b\b\b\b\b         \b\b\b\b\b\b\b\b\b1 file, 21327372 bytes (21 MiB)\n",
            "\n",
            "Extracting archive: test.zip\n",
            "--\n",
            "Path = test.zip\n",
            "Type = zip\n",
            "Physical Size = 21327372\n",
            "\n",
            "  0%\b\b\b\b    \b\b\b\b 33% - test.csv\b\b\b\b\b\b\b\b\b\b\b\b\b\b\b               \b\b\b\b\b\b\b\b\b\b\b\b\b\b\b 61% - test.csv\b\b\b\b\b\b\b\b\b\b\b\b\b\b\b               \b\b\b\b\b\b\b\b\b\b\b\b\b\b\b 93% - test.csv\b\b\b\b\b\b\b\b\b\b\b\b\b\b\b               \b\b\b\b\b\b\b\b\b\b\b\b\b\b\bEverything is Ok\n",
            "\n",
            "Size:       70794289\n",
            "Compressed: 21327372\n"
          ],
          "name": "stdout"
        }
      ]
    },
    {
      "cell_type": "code",
      "metadata": {
        "id": "iJpp7SSVuAh-",
        "colab_type": "code",
        "outputId": "9f9c92b7-a900-4d35-a37a-70a56d3aa177",
        "colab": {
          "base_uri": "https://localhost:8080/",
          "height": 316
        }
      },
      "source": [
        "# This extracts the train data from kaggle download\n",
        "!7za e train.zip"
      ],
      "execution_count": 0,
      "outputs": [
        {
          "output_type": "stream",
          "text": [
            "\n",
            "7-Zip (a) [64] 16.02 : Copyright (c) 1999-2016 Igor Pavlov : 2016-05-21\n",
            "p7zip Version 16.02 (locale=en_US.UTF-8,Utf16=on,HugeFiles=on,64 bits,2 CPUs Intel(R) Xeon(R) CPU @ 2.20GHz (406F0),ASM,AES-NI)\n",
            "\n",
            "Scanning the drive for archives:\n",
            "  0M Scan\b\b\b\b\b\b\b\b\b         \b\b\b\b\b\b\b\b\b1 file, 65967663 bytes (63 MiB)\n",
            "\n",
            "Extracting archive: train.zip\n",
            "--\n",
            "Path = train.zip\n",
            "Type = zip\n",
            "Physical Size = 65967663\n",
            "\n",
            "  0%\b\b\b\b    \b\b\b\b 11% - train.csv\b\b\b\b\b\b\b\b\b\b\b\b\b\b\b\b                \b\b\b\b\b\b\b\b\b\b\b\b\b\b\b\b 23% - train.csv\b\b\b\b\b\b\b\b\b\b\b\b\b\b\b\b                \b\b\b\b\b\b\b\b\b\b\b\b\b\b\b\b 34% - train.csv\b\b\b\b\b\b\b\b\b\b\b\b\b\b\b\b                \b\b\b\b\b\b\b\b\b\b\b\b\b\b\b\b 46% - train.csv\b\b\b\b\b\b\b\b\b\b\b\b\b\b\b\b                \b\b\b\b\b\b\b\b\b\b\b\b\b\b\b\b 57% - train.csv\b\b\b\b\b\b\b\b\b\b\b\b\b\b\b\b                \b\b\b\b\b\b\b\b\b\b\b\b\b\b\b\b 66% - train.csv\b\b\b\b\b\b\b\b\b\b\b\b\b\b\b\b                \b\b\b\b\b\b\b\b\b\b\b\b\b\b\b\b 77% - train.csv\b\b\b\b\b\b\b\b\b\b\b\b\b\b\b\b                \b\b\b\b\b\b\b\b\b\b\b\b\b\b\b\b 88% - train.csv\b\b\b\b\b\b\b\b\b\b\b\b\b\b\b\b                \b\b\b\b\b\b\b\b\b\b\b\b\b\b\b\b 99% - train.csv\b\b\b\b\b\b\b\b\b\b\b\b\b\b\b\b                \b\b\b\b\b\b\b\b\b\b\b\b\b\b\b\bEverything is Ok\n",
            "\n",
            "Size:       200589097\n",
            "Compressed: 65967663\n"
          ],
          "name": "stdout"
        }
      ]
    },
    {
      "cell_type": "code",
      "metadata": {
        "id": "K7EFCs7euVUV",
        "colab_type": "code",
        "outputId": "c8b040eb-6757-4322-e9a1-7260b8becbe6",
        "colab": {
          "base_uri": "https://localhost:8080/",
          "height": 316
        }
      },
      "source": [
        "# This extracts the sample_submission from kaggle download\n",
        "!7za e sample_submission.zip"
      ],
      "execution_count": 0,
      "outputs": [
        {
          "output_type": "stream",
          "text": [
            "\n",
            "7-Zip (a) [64] 16.02 : Copyright (c) 1999-2016 Igor Pavlov : 2016-05-21\n",
            "p7zip Version 16.02 (locale=en_US.UTF-8,Utf16=on,HugeFiles=on,64 bits,2 CPUs Intel(R) Xeon(R) CPU @ 2.20GHz (406F0),ASM,AES-NI)\n",
            "\n",
            "Scanning the drive for archives:\n",
            "  0M Scan\b\b\b\b\b\b\b\b\b         \b\b\b\b\b\b\b\b\b1 file, 2615198 bytes (2554 KiB)\n",
            "\n",
            "Extracting archive: sample_submission.zip\n",
            "--\n",
            "Path = sample_submission.zip\n",
            "Type = zip\n",
            "Physical Size = 2615198\n",
            "\n",
            "  0%\b\b\b\b    \b\b\b\bEverything is Ok\n",
            "\n",
            "Size:       8751893\n",
            "Compressed: 2615198\n"
          ],
          "name": "stdout"
        }
      ]
    },
    {
      "cell_type": "markdown",
      "metadata": {
        "id": "y_FZ1S7Yujbu",
        "colab_type": "text"
      },
      "source": [
        "## Import APIs"
      ]
    },
    {
      "cell_type": "code",
      "metadata": {
        "id": "j6m-sxTxuku9",
        "colab_type": "code",
        "colab": {}
      },
      "source": [
        "# import commands brings in the necessary libraries from 'library'\n",
        "# that are required to run this notebook into the notebook environment\n",
        "\n",
        "import os\n",
        "import time\n",
        "import json\n",
        "import numpy as np\n",
        "import pandas as pd\n",
        "import matplotlib.pyplot as plt\n",
        "from matplotlib.ticker import StrMethodFormatter\n",
        "from sklearn import linear_model\n",
        "from sklearn.model_selection import train_test_split\n",
        "from sklearn.linear_model import LinearRegression\n",
        "from sklearn.tree import DecisionTreeRegressor\n",
        "from sklearn.ensemble import RandomForestRegressor\n",
        "\n",
        "from sklearn import preprocessing\n",
        "from sklearn import metrics\n",
        "import datetime\n",
        "\n",
        "import seaborn as sns # Seaborn library for plotting\n",
        "\n",
        "# Some statistics tools\n",
        "\n",
        "from sklearn import datasets, linear_model\n",
        "from sklearn.linear_model import LinearRegression\n",
        "import statsmodels.api as sm\n",
        "from scipy import stats\n",
        "\n",
        "\n",
        "from xgboost import XGBRegressor\n",
        "%matplotlib inline # Necessary in JupyterNotebooks"
      ],
      "execution_count": 0,
      "outputs": []
    },
    {
      "cell_type": "markdown",
      "metadata": {
        "id": "E6OHZt3F15To",
        "colab_type": "text"
      },
      "source": [
        "## Load trainning and testing data"
      ]
    },
    {
      "cell_type": "code",
      "metadata": {
        "id": "YPOeJ_85v6yt",
        "colab_type": "code",
        "colab": {}
      },
      "source": [
        "# Load train data\n",
        "train_df = pd.read_csv('./train.csv')\n",
        "\n",
        "# Load test data\n",
        "test_df = pd.read_csv('./test.csv')\n"
      ],
      "execution_count": 0,
      "outputs": []
    },
    {
      "cell_type": "markdown",
      "metadata": {
        "id": "EGmitIUUzN7z",
        "colab_type": "text"
      },
      "source": [
        "# Problem Definition\n",
        "\n",
        "We are provided a data set with geographical, time, and passanger count data along with other features from a set of taxi rides in New York City. We are asked to predict the total trip duration based on the provided data. In other words, we are asked to predict a number from a set of labeled input feature values, this is a classic supervised learning problem, specifically a regression problem.\n",
        "\n",
        "## Feature Details\n",
        "\n",
        "id - a unique identifier for each trip\n",
        "vendor_id - a code indicating the provider associated with the trip record\n",
        "pickup_datetime - date and time when the meter was engaged\n",
        "dropoff_datetime - date and time when the meter was disengaged\n",
        "passenger_count - the number of passengers in the vehicle (driver entered value)\n",
        "pickup_longitude - the longitude where the meter was engaged\n",
        "pickup_latitude - the latitude where the meter was engaged\n",
        "dropoff_longitude - the longitude where the meter was disengaged\n",
        "dropoff_latitude - the latitude where the meter was disengaged\n",
        "store_and_fwd_flag - This flag indicates whether the trip record was held in vehicle memory before sending to the vendor because the vehicle did not have a connection to the server - Y=store and forward; N=not a store and forward trip.\n",
        "\n",
        "\n",
        "## Label Details\n",
        "\n",
        "trip_duration - duration of the trip in seconds"
      ]
    },
    {
      "cell_type": "markdown",
      "metadata": {
        "id": "yiZJP1rTzVjn",
        "colab_type": "text"
      },
      "source": [
        "# Data Cleaning\n",
        "\n",
        "In this section, we will run several, and similar data cleaning and data engineering procedures, we will look for Nan data points, outliers, legally unacceptable points, and ensure data is formatted as necessary."
      ]
    },
    {
      "cell_type": "markdown",
      "metadata": {
        "id": "fW2RN2SY11As",
        "colab_type": "text"
      },
      "source": [
        "## Quick Look at the datasets"
      ]
    },
    {
      "cell_type": "code",
      "metadata": {
        "id": "uBufTqWzwUDe",
        "colab_type": "code",
        "outputId": "027a0d42-a88a-4088-e731-76082376b911",
        "colab": {
          "base_uri": "https://localhost:8080/",
          "height": 32
        }
      },
      "source": [
        "train_df.shape"
      ],
      "execution_count": 0,
      "outputs": [
        {
          "output_type": "execute_result",
          "data": {
            "text/plain": [
              "(1458644, 11)"
            ]
          },
          "metadata": {
            "tags": []
          },
          "execution_count": 11
        }
      ]
    },
    {
      "cell_type": "code",
      "metadata": {
        "id": "12715ViTwZ_c",
        "colab_type": "code",
        "outputId": "cc0afc94-d50b-42cd-a5b9-a2faa36bfbd8",
        "colab": {
          "base_uri": "https://localhost:8080/",
          "height": 32
        }
      },
      "source": [
        "test_df.shape"
      ],
      "execution_count": 0,
      "outputs": [
        {
          "output_type": "execute_result",
          "data": {
            "text/plain": [
              "(625134, 9)"
            ]
          },
          "metadata": {
            "tags": []
          },
          "execution_count": 12
        }
      ]
    },
    {
      "cell_type": "code",
      "metadata": {
        "id": "MVoE9pTS0_Uq",
        "colab_type": "code",
        "outputId": "3266b2c6-af81-4d19-f93b-9ffe22159763",
        "colab": {
          "base_uri": "https://localhost:8080/",
          "height": 303
        }
      },
      "source": [
        "train_df.head()"
      ],
      "execution_count": 0,
      "outputs": [
        {
          "output_type": "execute_result",
          "data": {
            "text/html": [
              "<div>\n",
              "<style scoped>\n",
              "    .dataframe tbody tr th:only-of-type {\n",
              "        vertical-align: middle;\n",
              "    }\n",
              "\n",
              "    .dataframe tbody tr th {\n",
              "        vertical-align: top;\n",
              "    }\n",
              "\n",
              "    .dataframe thead th {\n",
              "        text-align: right;\n",
              "    }\n",
              "</style>\n",
              "<table border=\"1\" class=\"dataframe\">\n",
              "  <thead>\n",
              "    <tr style=\"text-align: right;\">\n",
              "      <th></th>\n",
              "      <th>id</th>\n",
              "      <th>vendor_id</th>\n",
              "      <th>pickup_datetime</th>\n",
              "      <th>dropoff_datetime</th>\n",
              "      <th>passenger_count</th>\n",
              "      <th>pickup_longitude</th>\n",
              "      <th>pickup_latitude</th>\n",
              "      <th>dropoff_longitude</th>\n",
              "      <th>dropoff_latitude</th>\n",
              "      <th>store_and_fwd_flag</th>\n",
              "      <th>trip_duration</th>\n",
              "    </tr>\n",
              "  </thead>\n",
              "  <tbody>\n",
              "    <tr>\n",
              "      <th>0</th>\n",
              "      <td>id2875421</td>\n",
              "      <td>2</td>\n",
              "      <td>2016-03-14 17:24:55</td>\n",
              "      <td>2016-03-14 17:32:30</td>\n",
              "      <td>1</td>\n",
              "      <td>-73.982155</td>\n",
              "      <td>40.767937</td>\n",
              "      <td>-73.964630</td>\n",
              "      <td>40.765602</td>\n",
              "      <td>N</td>\n",
              "      <td>455</td>\n",
              "    </tr>\n",
              "    <tr>\n",
              "      <th>1</th>\n",
              "      <td>id2377394</td>\n",
              "      <td>1</td>\n",
              "      <td>2016-06-12 00:43:35</td>\n",
              "      <td>2016-06-12 00:54:38</td>\n",
              "      <td>1</td>\n",
              "      <td>-73.980415</td>\n",
              "      <td>40.738564</td>\n",
              "      <td>-73.999481</td>\n",
              "      <td>40.731152</td>\n",
              "      <td>N</td>\n",
              "      <td>663</td>\n",
              "    </tr>\n",
              "    <tr>\n",
              "      <th>2</th>\n",
              "      <td>id3858529</td>\n",
              "      <td>2</td>\n",
              "      <td>2016-01-19 11:35:24</td>\n",
              "      <td>2016-01-19 12:10:48</td>\n",
              "      <td>1</td>\n",
              "      <td>-73.979027</td>\n",
              "      <td>40.763939</td>\n",
              "      <td>-74.005333</td>\n",
              "      <td>40.710087</td>\n",
              "      <td>N</td>\n",
              "      <td>2124</td>\n",
              "    </tr>\n",
              "    <tr>\n",
              "      <th>3</th>\n",
              "      <td>id3504673</td>\n",
              "      <td>2</td>\n",
              "      <td>2016-04-06 19:32:31</td>\n",
              "      <td>2016-04-06 19:39:40</td>\n",
              "      <td>1</td>\n",
              "      <td>-74.010040</td>\n",
              "      <td>40.719971</td>\n",
              "      <td>-74.012268</td>\n",
              "      <td>40.706718</td>\n",
              "      <td>N</td>\n",
              "      <td>429</td>\n",
              "    </tr>\n",
              "    <tr>\n",
              "      <th>4</th>\n",
              "      <td>id2181028</td>\n",
              "      <td>2</td>\n",
              "      <td>2016-03-26 13:30:55</td>\n",
              "      <td>2016-03-26 13:38:10</td>\n",
              "      <td>1</td>\n",
              "      <td>-73.973053</td>\n",
              "      <td>40.793209</td>\n",
              "      <td>-73.972923</td>\n",
              "      <td>40.782520</td>\n",
              "      <td>N</td>\n",
              "      <td>435</td>\n",
              "    </tr>\n",
              "  </tbody>\n",
              "</table>\n",
              "</div>"
            ],
            "text/plain": [
              "          id  vendor_id  ... store_and_fwd_flag trip_duration\n",
              "0  id2875421          2  ...                  N           455\n",
              "1  id2377394          1  ...                  N           663\n",
              "2  id3858529          2  ...                  N          2124\n",
              "3  id3504673          2  ...                  N           429\n",
              "4  id2181028          2  ...                  N           435\n",
              "\n",
              "[5 rows x 11 columns]"
            ]
          },
          "metadata": {
            "tags": []
          },
          "execution_count": 13
        }
      ]
    },
    {
      "cell_type": "code",
      "metadata": {
        "id": "59MFux4e1lR9",
        "colab_type": "code",
        "outputId": "37f33130-c115-4aff-dd64-3582739cd5f0",
        "colab": {
          "base_uri": "https://localhost:8080/",
          "height": 303
        }
      },
      "source": [
        "test_df.head()"
      ],
      "execution_count": 0,
      "outputs": [
        {
          "output_type": "execute_result",
          "data": {
            "text/html": [
              "<div>\n",
              "<style scoped>\n",
              "    .dataframe tbody tr th:only-of-type {\n",
              "        vertical-align: middle;\n",
              "    }\n",
              "\n",
              "    .dataframe tbody tr th {\n",
              "        vertical-align: top;\n",
              "    }\n",
              "\n",
              "    .dataframe thead th {\n",
              "        text-align: right;\n",
              "    }\n",
              "</style>\n",
              "<table border=\"1\" class=\"dataframe\">\n",
              "  <thead>\n",
              "    <tr style=\"text-align: right;\">\n",
              "      <th></th>\n",
              "      <th>id</th>\n",
              "      <th>vendor_id</th>\n",
              "      <th>pickup_datetime</th>\n",
              "      <th>passenger_count</th>\n",
              "      <th>pickup_longitude</th>\n",
              "      <th>pickup_latitude</th>\n",
              "      <th>dropoff_longitude</th>\n",
              "      <th>dropoff_latitude</th>\n",
              "      <th>store_and_fwd_flag</th>\n",
              "    </tr>\n",
              "  </thead>\n",
              "  <tbody>\n",
              "    <tr>\n",
              "      <th>0</th>\n",
              "      <td>id3004672</td>\n",
              "      <td>1</td>\n",
              "      <td>2016-06-30 23:59:58</td>\n",
              "      <td>1</td>\n",
              "      <td>-73.988129</td>\n",
              "      <td>40.732029</td>\n",
              "      <td>-73.990173</td>\n",
              "      <td>40.756680</td>\n",
              "      <td>N</td>\n",
              "    </tr>\n",
              "    <tr>\n",
              "      <th>1</th>\n",
              "      <td>id3505355</td>\n",
              "      <td>1</td>\n",
              "      <td>2016-06-30 23:59:53</td>\n",
              "      <td>1</td>\n",
              "      <td>-73.964203</td>\n",
              "      <td>40.679993</td>\n",
              "      <td>-73.959808</td>\n",
              "      <td>40.655403</td>\n",
              "      <td>N</td>\n",
              "    </tr>\n",
              "    <tr>\n",
              "      <th>2</th>\n",
              "      <td>id1217141</td>\n",
              "      <td>1</td>\n",
              "      <td>2016-06-30 23:59:47</td>\n",
              "      <td>1</td>\n",
              "      <td>-73.997437</td>\n",
              "      <td>40.737583</td>\n",
              "      <td>-73.986160</td>\n",
              "      <td>40.729523</td>\n",
              "      <td>N</td>\n",
              "    </tr>\n",
              "    <tr>\n",
              "      <th>3</th>\n",
              "      <td>id2150126</td>\n",
              "      <td>2</td>\n",
              "      <td>2016-06-30 23:59:41</td>\n",
              "      <td>1</td>\n",
              "      <td>-73.956070</td>\n",
              "      <td>40.771900</td>\n",
              "      <td>-73.986427</td>\n",
              "      <td>40.730469</td>\n",
              "      <td>N</td>\n",
              "    </tr>\n",
              "    <tr>\n",
              "      <th>4</th>\n",
              "      <td>id1598245</td>\n",
              "      <td>1</td>\n",
              "      <td>2016-06-30 23:59:33</td>\n",
              "      <td>1</td>\n",
              "      <td>-73.970215</td>\n",
              "      <td>40.761475</td>\n",
              "      <td>-73.961510</td>\n",
              "      <td>40.755890</td>\n",
              "      <td>N</td>\n",
              "    </tr>\n",
              "  </tbody>\n",
              "</table>\n",
              "</div>"
            ],
            "text/plain": [
              "          id  vendor_id  ... dropoff_latitude  store_and_fwd_flag\n",
              "0  id3004672          1  ...        40.756680                   N\n",
              "1  id3505355          1  ...        40.655403                   N\n",
              "2  id1217141          1  ...        40.729523                   N\n",
              "3  id2150126          2  ...        40.730469                   N\n",
              "4  id1598245          1  ...        40.755890                   N\n",
              "\n",
              "[5 rows x 9 columns]"
            ]
          },
          "metadata": {
            "tags": []
          },
          "execution_count": 14
        }
      ]
    },
    {
      "cell_type": "code",
      "metadata": {
        "id": "F4tcVRqUzled",
        "colab_type": "code",
        "outputId": "c7d37207-2bfa-40b7-d77e-300bb5d9cae8",
        "colab": {
          "base_uri": "https://localhost:8080/",
          "height": 214
        }
      },
      "source": [
        "# Check for Missing Data in training dataset using df.isna() command\n",
        "# This command iterates over the columns of a dataframe checking wether an entry\n",
        "# is Nan and counts the number of those such entries.\n",
        "train_df.isna().sum(axis=0)"
      ],
      "execution_count": 0,
      "outputs": [
        {
          "output_type": "execute_result",
          "data": {
            "text/plain": [
              "id                    0\n",
              "vendor_id             0\n",
              "pickup_datetime       0\n",
              "dropoff_datetime      0\n",
              "passenger_count       0\n",
              "pickup_longitude      0\n",
              "pickup_latitude       0\n",
              "dropoff_longitude     0\n",
              "dropoff_latitude      0\n",
              "store_and_fwd_flag    0\n",
              "trip_duration         0\n",
              "dtype: int64"
            ]
          },
          "metadata": {
            "tags": []
          },
          "execution_count": 15
        }
      ]
    },
    {
      "cell_type": "markdown",
      "metadata": {
        "id": "d1UW3g8B2tnK",
        "colab_type": "text"
      },
      "source": [
        "There is no missing data in training and testing dataset"
      ]
    },
    {
      "cell_type": "markdown",
      "metadata": {
        "id": "ZSGfC-7GqJQa",
        "colab_type": "text"
      },
      "source": [
        "## Remove Outliers"
      ]
    },
    {
      "cell_type": "code",
      "metadata": {
        "id": "VRvHVwFlPoJo",
        "colab_type": "code",
        "outputId": "3be8905c-50c9-456a-adb1-46f88b6e7b7a",
        "colab": {
          "base_uri": "https://localhost:8080/",
          "height": 291
        }
      },
      "source": [
        "# Change the formatting of the numbers in order to help visualization\n",
        "pd.set_option('display.float_format',lambda x : '%.2f'% x)\n",
        "train_df.describe()"
      ],
      "execution_count": 0,
      "outputs": [
        {
          "output_type": "execute_result",
          "data": {
            "text/html": [
              "<div>\n",
              "<style scoped>\n",
              "    .dataframe tbody tr th:only-of-type {\n",
              "        vertical-align: middle;\n",
              "    }\n",
              "\n",
              "    .dataframe tbody tr th {\n",
              "        vertical-align: top;\n",
              "    }\n",
              "\n",
              "    .dataframe thead th {\n",
              "        text-align: right;\n",
              "    }\n",
              "</style>\n",
              "<table border=\"1\" class=\"dataframe\">\n",
              "  <thead>\n",
              "    <tr style=\"text-align: right;\">\n",
              "      <th></th>\n",
              "      <th>vendor_id</th>\n",
              "      <th>passenger_count</th>\n",
              "      <th>pickup_longitude</th>\n",
              "      <th>pickup_latitude</th>\n",
              "      <th>dropoff_longitude</th>\n",
              "      <th>dropoff_latitude</th>\n",
              "      <th>trip_duration</th>\n",
              "    </tr>\n",
              "  </thead>\n",
              "  <tbody>\n",
              "    <tr>\n",
              "      <th>count</th>\n",
              "      <td>1458644.00</td>\n",
              "      <td>1458644.00</td>\n",
              "      <td>1458644.00</td>\n",
              "      <td>1458644.00</td>\n",
              "      <td>1458644.00</td>\n",
              "      <td>1458644.00</td>\n",
              "      <td>1458644.00</td>\n",
              "    </tr>\n",
              "    <tr>\n",
              "      <th>mean</th>\n",
              "      <td>1.53</td>\n",
              "      <td>1.66</td>\n",
              "      <td>-73.97</td>\n",
              "      <td>40.75</td>\n",
              "      <td>-73.97</td>\n",
              "      <td>40.75</td>\n",
              "      <td>959.49</td>\n",
              "    </tr>\n",
              "    <tr>\n",
              "      <th>std</th>\n",
              "      <td>0.50</td>\n",
              "      <td>1.31</td>\n",
              "      <td>0.07</td>\n",
              "      <td>0.03</td>\n",
              "      <td>0.07</td>\n",
              "      <td>0.04</td>\n",
              "      <td>5237.43</td>\n",
              "    </tr>\n",
              "    <tr>\n",
              "      <th>min</th>\n",
              "      <td>1.00</td>\n",
              "      <td>0.00</td>\n",
              "      <td>-121.93</td>\n",
              "      <td>34.36</td>\n",
              "      <td>-121.93</td>\n",
              "      <td>32.18</td>\n",
              "      <td>1.00</td>\n",
              "    </tr>\n",
              "    <tr>\n",
              "      <th>25%</th>\n",
              "      <td>1.00</td>\n",
              "      <td>1.00</td>\n",
              "      <td>-73.99</td>\n",
              "      <td>40.74</td>\n",
              "      <td>-73.99</td>\n",
              "      <td>40.74</td>\n",
              "      <td>397.00</td>\n",
              "    </tr>\n",
              "    <tr>\n",
              "      <th>50%</th>\n",
              "      <td>2.00</td>\n",
              "      <td>1.00</td>\n",
              "      <td>-73.98</td>\n",
              "      <td>40.75</td>\n",
              "      <td>-73.98</td>\n",
              "      <td>40.75</td>\n",
              "      <td>662.00</td>\n",
              "    </tr>\n",
              "    <tr>\n",
              "      <th>75%</th>\n",
              "      <td>2.00</td>\n",
              "      <td>2.00</td>\n",
              "      <td>-73.97</td>\n",
              "      <td>40.77</td>\n",
              "      <td>-73.96</td>\n",
              "      <td>40.77</td>\n",
              "      <td>1075.00</td>\n",
              "    </tr>\n",
              "    <tr>\n",
              "      <th>max</th>\n",
              "      <td>2.00</td>\n",
              "      <td>9.00</td>\n",
              "      <td>-61.34</td>\n",
              "      <td>51.88</td>\n",
              "      <td>-61.34</td>\n",
              "      <td>43.92</td>\n",
              "      <td>3526282.00</td>\n",
              "    </tr>\n",
              "  </tbody>\n",
              "</table>\n",
              "</div>"
            ],
            "text/plain": [
              "       vendor_id  passenger_count  ...  dropoff_latitude  trip_duration\n",
              "count 1458644.00       1458644.00  ...        1458644.00     1458644.00\n",
              "mean        1.53             1.66  ...             40.75         959.49\n",
              "std         0.50             1.31  ...              0.04        5237.43\n",
              "min         1.00             0.00  ...             32.18           1.00\n",
              "25%         1.00             1.00  ...             40.74         397.00\n",
              "50%         2.00             1.00  ...             40.75         662.00\n",
              "75%         2.00             2.00  ...             40.77        1075.00\n",
              "max         2.00             9.00  ...             43.92     3526282.00\n",
              "\n",
              "[8 rows x 7 columns]"
            ]
          },
          "metadata": {
            "tags": []
          },
          "execution_count": 16
        }
      ]
    },
    {
      "cell_type": "markdown",
      "metadata": {
        "id": "Hv83afP5Qg-5",
        "colab_type": "text"
      },
      "source": [
        "The maximum trip duration is ~41 days which doesn't make sense. Also maximum number of passengers is 9, which is also strange. We may need to remove some outliers"
      ]
    },
    {
      "cell_type": "markdown",
      "metadata": {
        "id": "UpcdTIX5PRCY",
        "colab_type": "text"
      },
      "source": [
        "### Duration"
      ]
    },
    {
      "cell_type": "code",
      "metadata": {
        "id": "JoAD_tqmV8RR",
        "colab_type": "code",
        "outputId": "34c7f470-db7b-4c8b-c374-1b257b3e5284",
        "colab": {
          "base_uri": "https://localhost:8080/",
          "height": 164
        }
      },
      "source": [
        "train_df.trip_duration.describe() # Provides simple statistic summary of the \n",
        "                                  # Columns in the DataFrame."
      ],
      "execution_count": 0,
      "outputs": [
        {
          "output_type": "execute_result",
          "data": {
            "text/plain": [
              "count   1458644.00\n",
              "mean        959.49\n",
              "std        5237.43\n",
              "min           1.00\n",
              "25%         397.00\n",
              "50%         662.00\n",
              "75%        1075.00\n",
              "max     3526282.00\n",
              "Name: trip_duration, dtype: float64"
            ]
          },
          "metadata": {
            "tags": []
          },
          "execution_count": 17
        }
      ]
    },
    {
      "cell_type": "code",
      "metadata": {
        "id": "UmlT066z3hfj",
        "colab_type": "code",
        "outputId": "9293afd3-12b5-478d-d47c-a4eae4390a55",
        "colab": {
          "base_uri": "https://localhost:8080/",
          "height": 278
        }
      },
      "source": [
        "sns.boxplot(train_df.trip_duration) # Creates a boxplot of trip duration using \n",
        "                                    # Seaborn library.\n",
        "plt.show()"
      ],
      "execution_count": 0,
      "outputs": [
        {
          "output_type": "display_data",
          "data": {
            "image/png": "[encoded data removed]",
            "text/plain": [
              "<Figure size 432x288 with 1 Axes>"
            ]
          },
          "metadata": {
            "tags": []
          }
        }
      ]
    },
    {
      "cell_type": "code",
      "metadata": {
        "id": "gG_FJvCs-YNo",
        "colab_type": "code",
        "outputId": "b057b8e8-bbfb-46f3-f550-b97e271708a0",
        "colab": {
          "base_uri": "https://localhost:8080/",
          "height": 32
        }
      },
      "source": [
        "print('there are', train_df[(train_df.trip_duration < 5)].trip_duration.count(), 'trips took less than 5 seconds, and',\n",
        "      train_df[(train_df.trip_duration > 86400)].trip_duration.count(), 'trips took more than one day')"
      ],
      "execution_count": 0,
      "outputs": [
        {
          "output_type": "stream",
          "text": [
            "there are 845 trips took less than 5 seconds, and 4 trips took more than one day\n"
          ],
          "name": "stdout"
        }
      ]
    },
    {
      "cell_type": "code",
      "metadata": {
        "id": "rmDvEnNZEa2d",
        "colab_type": "code",
        "colab": {}
      },
      "source": [
        "# remove instances based on Duration in the testing set\n",
        "# remove these 849\n",
        "train_df = train_df[train_df.trip_duration >= 5]\n",
        "train_df = train_df[train_df.trip_duration < 1000000]"
      ],
      "execution_count": 0,
      "outputs": []
    },
    {
      "cell_type": "code",
      "metadata": {
        "id": "VNmAnV9hERzp",
        "colab_type": "code",
        "outputId": "e32eeee9-a9b7-42f9-a907-61459951c31c",
        "colab": {
          "base_uri": "https://localhost:8080/",
          "height": 32
        }
      },
      "source": [
        "train_df.shape"
      ],
      "execution_count": 0,
      "outputs": [
        {
          "output_type": "execute_result",
          "data": {
            "text/plain": [
              "(1457795, 11)"
            ]
          },
          "metadata": {
            "tags": []
          },
          "execution_count": 21
        }
      ]
    },
    {
      "cell_type": "code",
      "metadata": {
        "id": "ux6IGJ3P8O8o",
        "colab_type": "code",
        "outputId": "84e77249-5356-4fcf-90e9-39c21804e531",
        "colab": {
          "base_uri": "https://localhost:8080/",
          "height": 278
        }
      },
      "source": [
        "sns.boxplot(train_df.trip_duration)\n",
        "plt.show()"
      ],
      "execution_count": 0,
      "outputs": [
        {
          "output_type": "display_data",
          "data": {
            "image/png": "[encoded data removed]",
            "text/plain": [
              "<Figure size 432x288 with 1 Axes>"
            ]
          },
          "metadata": {
            "tags": []
          }
        }
      ]
    },
    {
      "cell_type": "code",
      "metadata": {
        "id": "zHhUJ8uVz4V4",
        "colab_type": "code",
        "outputId": "273bf75c-e658-4342-b70e-0a58bf8abd41",
        "colab": {
          "base_uri": "https://localhost:8080/",
          "height": 508
        }
      },
      "source": [
        "%matplotlib inline\n",
        "\n",
        "# For visualization purposes, we will use the Seaborn Library\n",
        "\n",
        "sns.set(style=\"white\", palette=\"muted\", color_codes=True)\n",
        "f, axes = plt.subplots(1, 1, figsize=(11, 7), sharex=True)\n",
        "sns.despine(left=True)\n",
        "sns.distplot(np.log(train_df['trip_duration'].values+1), axlabel = 'Log(trip_duration)', label = 'log(trip_duration)', bins = 50, color=\"r\")\n",
        "\n",
        "plt.setp(axes, yticks=[])\n",
        "plt.tight_layout()\n",
        "plt.show()"
      ],
      "execution_count": 0,
      "outputs": [
        {
          "output_type": "display_data",
          "data": {
            "image/png": "[encoded data removed]",
            "text/plain": [
              "<Figure size 792x504 with 1 Axes>"
            ]
          },
          "metadata": {
            "tags": []
          }
        }
      ]
    },
    {
      "cell_type": "markdown",
      "metadata": {
        "id": "wbYY2dC2Prvu",
        "colab_type": "text"
      },
      "source": [
        "**Passenger Count**"
      ]
    },
    {
      "cell_type": "code",
      "metadata": {
        "id": "S-53odII5Inc",
        "colab_type": "code",
        "outputId": "45e31418-020a-4a5e-d762-3c8cce4f999e",
        "colab": {
          "base_uri": "https://localhost:8080/",
          "height": 197
        }
      },
      "source": [
        "# remove instances based on Number of Passengers in the testing set\n",
        "train_df.passenger_count.value_counts()"
      ],
      "execution_count": 0,
      "outputs": [
        {
          "output_type": "execute_result",
          "data": {
            "text/plain": [
              "1    1032802\n",
              "2     210256\n",
              "5      78070\n",
              "3      59885\n",
              "6      48327\n",
              "4      28402\n",
              "0         48\n",
              "7          3\n",
              "9          1\n",
              "8          1\n",
              "Name: passenger_count, dtype: int64"
            ]
          },
          "metadata": {
            "tags": []
          },
          "execution_count": 24
        }
      ]
    },
    {
      "cell_type": "markdown",
      "metadata": {
        "id": "CWbkYlxz6-V8",
        "colab_type": "text"
      },
      "source": [
        "By New York legislation, rides with more than 6 passengers are ilegal, therefore, we will remove all those datapoints in addition to those rides \n",
        "with less than 1 passanger."
      ]
    },
    {
      "cell_type": "code",
      "metadata": {
        "id": "HVqV2UTp6tdA",
        "colab_type": "code",
        "colab": {}
      },
      "source": [
        "# remove these 53 trips\n",
        "train_df = train_df[train_df.passenger_count <= 6]\n",
        "train_df = train_df[train_df.passenger_count > 0]"
      ],
      "execution_count": 0,
      "outputs": []
    },
    {
      "cell_type": "code",
      "metadata": {
        "id": "L-Fyj7z-ORaD",
        "colab_type": "code",
        "outputId": "71c9a97f-5db2-42d2-d482-023f550b211f",
        "colab": {
          "base_uri": "https://localhost:8080/",
          "height": 32
        }
      },
      "source": [
        "train_df.shape # Shape of the DataFrame matrix."
      ],
      "execution_count": 0,
      "outputs": [
        {
          "output_type": "execute_result",
          "data": {
            "text/plain": [
              "(1457742, 11)"
            ]
          },
          "metadata": {
            "tags": []
          },
          "execution_count": 26
        }
      ]
    },
    {
      "cell_type": "code",
      "metadata": {
        "id": "pRVtT8PasrHe",
        "colab_type": "code",
        "outputId": "b5bb1a4d-b536-4be4-afa9-89d3262395ca",
        "colab": {
          "base_uri": "https://localhost:8080/",
          "height": 283
        }
      },
      "source": [
        "# Passanger count histogram.\n",
        "sns.countplot(train_df.passenger_count)\n",
        "plt.show()"
      ],
      "execution_count": 0,
      "outputs": [
        {
          "output_type": "display_data",
          "data": {
            "image/png": "[encoded data removed]",
            "text/plain": [
              "<Figure size 432x288 with 1 Axes>"
            ]
          },
          "metadata": {
            "tags": []
          }
        }
      ]
    },
    {
      "cell_type": "markdown",
      "metadata": {
        "id": "0X-qHSumRAia",
        "colab_type": "text"
      },
      "source": [
        "### Distance"
      ]
    },
    {
      "cell_type": "code",
      "metadata": {
        "id": "QwD5hmG4qN92",
        "colab_type": "code",
        "outputId": "786c87f2-41ab-4c16-9812-1501baa2545e",
        "colab": {
          "base_uri": "https://localhost:8080/",
          "height": 102
        }
      },
      "source": [
        "# Some useful libraries\n",
        "!pip install haversine\n",
        "from haversine import haversine, Unit"
      ],
      "execution_count": 0,
      "outputs": [
        {
          "output_type": "stream",
          "text": [
            "Collecting haversine\n",
            "  Downloading https://files.pythonhosted.org/packages/d7/26/78d4fadc73b7e4c3543f9d5401892cb9a3f4202be789984826033922ec5a/haversine-2.1.2-py2.py3-none-any.whl\n",
            "Installing collected packages: haversine\n",
            "Successfully installed haversine-2.1.2\n"
          ],
          "name": "stdout"
        }
      ]
    },
    {
      "cell_type": "code",
      "metadata": {
        "id": "JEZ3gjy1TJac",
        "colab_type": "code",
        "colab": {}
      },
      "source": [
        "def calc_distance(df):\n",
        "    pickup = (df['pickup_latitude'], df['pickup_longitude'])\n",
        "    drop = (df['dropoff_latitude'], df['dropoff_longitude'])\n",
        "    return haversine(pickup, drop)"
      ],
      "execution_count": 0,
      "outputs": []
    },
    {
      "cell_type": "code",
      "metadata": {
        "id": "-taaVJAvTwp1",
        "colab_type": "code",
        "colab": {}
      },
      "source": [
        "train_df['distance'] = train_df.apply(lambda x: calc_distance(x), axis = 1)"
      ],
      "execution_count": 0,
      "outputs": []
    },
    {
      "cell_type": "code",
      "metadata": {
        "id": "I1_9Gj7KVWK9",
        "colab_type": "code",
        "outputId": "e2d973de-18c3-487a-d697-fa13e282a38b",
        "colab": {
          "base_uri": "https://localhost:8080/",
          "height": 164
        }
      },
      "source": [
        "train_df.distance.describe()"
      ],
      "execution_count": 0,
      "outputs": [
        {
          "output_type": "execute_result",
          "data": {
            "text/plain": [
              "count   1457742.00\n",
              "mean          3.44\n",
              "std           4.30\n",
              "min           0.00\n",
              "25%           1.23\n",
              "50%           2.10\n",
              "75%           3.88\n",
              "max        1240.91\n",
              "Name: distance, dtype: float64"
            ]
          },
          "metadata": {
            "tags": []
          },
          "execution_count": 31
        }
      ]
    },
    {
      "cell_type": "code",
      "metadata": {
        "id": "OfJFy4viVqs0",
        "colab_type": "code",
        "outputId": "4afd832c-c703-4fdf-ed98-71b8155b00c3",
        "colab": {
          "base_uri": "https://localhost:8080/",
          "height": 283
        }
      },
      "source": [
        "sns.boxplot(train_df.distance)\n",
        "plt.show()"
      ],
      "execution_count": 0,
      "outputs": [
        {
          "output_type": "display_data",
          "data": {
            "image/png": "[encoded data removed]",
            "text/plain": [
              "<Figure size 432x288 with 1 Axes>"
            ]
          },
          "metadata": {
            "tags": []
          }
        }
      ]
    },
    {
      "cell_type": "code",
      "metadata": {
        "id": "6VbDVVr6WLmS",
        "colab_type": "code",
        "outputId": "41bfdbbd-22ca-44ff-9cb0-1c0bc0255bbf",
        "colab": {
          "base_uri": "https://localhost:8080/",
          "height": 32
        }
      },
      "source": [
        "# remove instances based on Duration in the testing set\n",
        "train_df[(train_df.distance == 0)].distance.count()"
      ],
      "execution_count": 0,
      "outputs": [
        {
          "output_type": "execute_result",
          "data": {
            "text/plain": [
              "5594"
            ]
          },
          "metadata": {
            "tags": []
          },
          "execution_count": 33
        }
      ]
    },
    {
      "cell_type": "code",
      "metadata": {
        "id": "fXN6qKLFIMAR",
        "colab_type": "code",
        "outputId": "24021764-0e06-4830-82f1-a6cc02fc1f12",
        "colab": {
          "base_uri": "https://localhost:8080/",
          "height": 164
        }
      },
      "source": [
        "train_df.distance.describe()"
      ],
      "execution_count": 0,
      "outputs": [
        {
          "output_type": "execute_result",
          "data": {
            "text/plain": [
              "count   1457742.00\n",
              "mean          3.44\n",
              "std           4.30\n",
              "min           0.00\n",
              "25%           1.23\n",
              "50%           2.10\n",
              "75%           3.88\n",
              "max        1240.91\n",
              "Name: distance, dtype: float64"
            ]
          },
          "metadata": {
            "tags": []
          },
          "execution_count": 34
        }
      ]
    },
    {
      "cell_type": "code",
      "metadata": {
        "id": "TGvOYwtrXNFh",
        "colab_type": "code",
        "outputId": "3a2d145c-179c-4cd0-bdad-7ba9a0acbe58",
        "colab": {
          "base_uri": "https://localhost:8080/",
          "height": 303
        }
      },
      "source": [
        "train_df.nlargest(5,['distance'])"
      ],
      "execution_count": 0,
      "outputs": [
        {
          "output_type": "execute_result",
          "data": {
            "text/html": [
              "<div>\n",
              "<style scoped>\n",
              "    .dataframe tbody tr th:only-of-type {\n",
              "        vertical-align: middle;\n",
              "    }\n",
              "\n",
              "    .dataframe tbody tr th {\n",
              "        vertical-align: top;\n",
              "    }\n",
              "\n",
              "    .dataframe thead th {\n",
              "        text-align: right;\n",
              "    }\n",
              "</style>\n",
              "<table border=\"1\" class=\"dataframe\">\n",
              "  <thead>\n",
              "    <tr style=\"text-align: right;\">\n",
              "      <th></th>\n",
              "      <th>id</th>\n",
              "      <th>vendor_id</th>\n",
              "      <th>pickup_datetime</th>\n",
              "      <th>dropoff_datetime</th>\n",
              "      <th>passenger_count</th>\n",
              "      <th>pickup_longitude</th>\n",
              "      <th>pickup_latitude</th>\n",
              "      <th>dropoff_longitude</th>\n",
              "      <th>dropoff_latitude</th>\n",
              "      <th>store_and_fwd_flag</th>\n",
              "      <th>trip_duration</th>\n",
              "      <th>distance</th>\n",
              "    </tr>\n",
              "  </thead>\n",
              "  <tbody>\n",
              "    <tr>\n",
              "      <th>184925</th>\n",
              "      <td>id2306955</td>\n",
              "      <td>1</td>\n",
              "      <td>2016-05-07 18:58:53</td>\n",
              "      <td>2016-05-07 19:12:05</td>\n",
              "      <td>1</td>\n",
              "      <td>-72.81</td>\n",
              "      <td>51.88</td>\n",
              "      <td>-73.99</td>\n",
              "      <td>40.75</td>\n",
              "      <td>N</td>\n",
              "      <td>792</td>\n",
              "      <td>1240.91</td>\n",
              "    </tr>\n",
              "    <tr>\n",
              "      <th>974378</th>\n",
              "      <td>id1510552</td>\n",
              "      <td>2</td>\n",
              "      <td>2016-01-06 20:40:52</td>\n",
              "      <td>2016-01-06 20:51:03</td>\n",
              "      <td>5</td>\n",
              "      <td>-71.80</td>\n",
              "      <td>35.08</td>\n",
              "      <td>-79.35</td>\n",
              "      <td>40.44</td>\n",
              "      <td>N</td>\n",
              "      <td>611</td>\n",
              "      <td>891.22</td>\n",
              "    </tr>\n",
              "    <tr>\n",
              "      <th>910072</th>\n",
              "      <td>id1146400</td>\n",
              "      <td>1</td>\n",
              "      <td>2016-02-15 18:57:32</td>\n",
              "      <td>2016-02-15 19:02:35</td>\n",
              "      <td>2</td>\n",
              "      <td>-73.99</td>\n",
              "      <td>40.76</td>\n",
              "      <td>-70.35</td>\n",
              "      <td>36.40</td>\n",
              "      <td>N</td>\n",
              "      <td>303</td>\n",
              "      <td>578.84</td>\n",
              "    </tr>\n",
              "    <tr>\n",
              "      <th>1100676</th>\n",
              "      <td>id2644780</td>\n",
              "      <td>1</td>\n",
              "      <td>2016-05-03 16:24:07</td>\n",
              "      <td>2016-05-03 17:18:34</td>\n",
              "      <td>2</td>\n",
              "      <td>-73.99</td>\n",
              "      <td>40.75</td>\n",
              "      <td>-79.52</td>\n",
              "      <td>43.92</td>\n",
              "      <td>N</td>\n",
              "      <td>3267</td>\n",
              "      <td>574.88</td>\n",
              "    </tr>\n",
              "    <tr>\n",
              "      <th>923793</th>\n",
              "      <td>id1001696</td>\n",
              "      <td>1</td>\n",
              "      <td>2016-02-24 21:02:32</td>\n",
              "      <td>2016-02-24 21:25:57</td>\n",
              "      <td>1</td>\n",
              "      <td>-73.97</td>\n",
              "      <td>40.76</td>\n",
              "      <td>-79.55</td>\n",
              "      <td>43.67</td>\n",
              "      <td>N</td>\n",
              "      <td>1405</td>\n",
              "      <td>562.24</td>\n",
              "    </tr>\n",
              "  </tbody>\n",
              "</table>\n",
              "</div>"
            ],
            "text/plain": [
              "                id  vendor_id  ... trip_duration distance\n",
              "184925   id2306955          1  ...           792  1240.91\n",
              "974378   id1510552          2  ...           611   891.22\n",
              "910072   id1146400          1  ...           303   578.84\n",
              "1100676  id2644780          1  ...          3267   574.88\n",
              "923793   id1001696          1  ...          1405   562.24\n",
              "\n",
              "[5 rows x 12 columns]"
            ]
          },
          "metadata": {
            "tags": []
          },
          "execution_count": 35
        }
      ]
    },
    {
      "cell_type": "markdown",
      "metadata": {
        "id": "NY4QrV3jYunv",
        "colab_type": "text"
      },
      "source": [
        "There are trips with 0 distance, and as shown in the chart above, there are some points look like outliers"
      ]
    },
    {
      "cell_type": "code",
      "metadata": {
        "id": "IV31jk87GKeE",
        "colab_type": "code",
        "colab": {}
      },
      "source": [
        "# Remove instance with distance = 0\n",
        "train_df = train_df[train_df.distance != 0]"
      ],
      "execution_count": 0,
      "outputs": []
    },
    {
      "cell_type": "code",
      "metadata": {
        "id": "YgK8tuoCIqFZ",
        "colab_type": "code",
        "outputId": "970cd259-ae3e-4eb8-cdfe-4a6a04e3acbb",
        "colab": {
          "base_uri": "https://localhost:8080/",
          "height": 267
        }
      },
      "source": [
        "train_df.distance.groupby(pd.cut(train_df.distance, np.arange(0,100,10))).count().plot(kind='barh')\n",
        "plt.show()"
      ],
      "execution_count": 0,
      "outputs": [
        {
          "output_type": "display_data",
          "data": {
            "image/png": "[encoded data removed]",
            "text/plain": [
              "<Figure size 432x288 with 1 Axes>"
            ]
          },
          "metadata": {
            "tags": []
          }
        }
      ]
    },
    {
      "cell_type": "markdown",
      "metadata": {
        "id": "DOvraW1eI_9-",
        "colab_type": "text"
      },
      "source": [
        "As shown above, most of the rides are completed between 1-10 kms with some of the rides with distances between 10-30 kms"
      ]
    },
    {
      "cell_type": "markdown",
      "metadata": {
        "id": "WNGIYA6S3n0W",
        "colab_type": "text"
      },
      "source": [
        "### Speed"
      ]
    },
    {
      "cell_type": "code",
      "metadata": {
        "id": "N3YmYm3s3qyM",
        "colab_type": "code",
        "colab": {}
      },
      "source": [
        "train_df['speed'] = (train_df.distance/(train_df.trip_duration/3600))"
      ],
      "execution_count": 0,
      "outputs": []
    },
    {
      "cell_type": "code",
      "metadata": {
        "id": "62SpVP_6C3N6",
        "colab_type": "code",
        "outputId": "709c2dcb-c9c6-4632-f484-da819cbd6b4d",
        "colab": {
          "base_uri": "https://localhost:8080/",
          "height": 164
        }
      },
      "source": [
        "train_df.speed.describe()"
      ],
      "execution_count": 0,
      "outputs": [
        {
          "output_type": "execute_result",
          "data": {
            "text/plain": [
              "count   1452148.00\n",
              "mean         14.47\n",
              "std          14.76\n",
              "min           0.00\n",
              "25%           9.17\n",
              "50%          12.82\n",
              "75%          17.87\n",
              "max        9274.85\n",
              "Name: speed, dtype: float64"
            ]
          },
          "metadata": {
            "tags": []
          },
          "execution_count": 39
        }
      ]
    },
    {
      "cell_type": "markdown",
      "metadata": {
        "id": "x8cqPcOBDN65",
        "colab_type": "text"
      },
      "source": [
        "Some trips have speed more than 2,000 meter/hour, which is unrealistic. We will need to remove these instances."
      ]
    },
    {
      "cell_type": "code",
      "metadata": {
        "id": "xmfC9JcbFIwR",
        "colab_type": "code",
        "colab": {}
      },
      "source": [
        "train_df = train_df[train_df.speed <= 110]"
      ],
      "execution_count": 0,
      "outputs": []
    },
    {
      "cell_type": "code",
      "metadata": {
        "id": "H2wAz1UHEaJh",
        "colab_type": "code",
        "outputId": "8539dafa-38b9-4dda-a0fb-8d3607432d31",
        "colab": {
          "base_uri": "https://localhost:8080/",
          "height": 357
        }
      },
      "source": [
        "plt.figure(figsize = (20,5))\n",
        "sns.boxplot(train_df.speed)\n",
        "plt.show()"
      ],
      "execution_count": 0,
      "outputs": [
        {
          "output_type": "display_data",
          "data": {
            "image/png": "[encoded data removed]",
            "text/plain": [
              "<Figure size 1440x360 with 1 Axes>"
            ]
          },
          "metadata": {
            "tags": []
          }
        }
      ]
    },
    {
      "cell_type": "markdown",
      "metadata": {
        "id": "H-yoCWVMKKwt",
        "colab_type": "text"
      },
      "source": [
        "# Feature Engineering"
      ]
    },
    {
      "cell_type": "markdown",
      "metadata": {
        "id": "5yqW8ExAKSA9",
        "colab_type": "text"
      },
      "source": [
        "## Time and Date"
      ]
    },
    {
      "cell_type": "code",
      "metadata": {
        "id": "gKpfP7XpvPop",
        "colab_type": "code",
        "colab": {}
      },
      "source": [
        "#Calculate and assign new columns to the dataframe such as weekday,\n",
        "#month and pickup_hour which will help us to gain more insights from the data.\n",
        "def convert_datetime(df):\n",
        "    df['pickup_datetime'] = pd.to_datetime(df['pickup_datetime'])\n",
        "    df['weekday'] = df.pickup_datetime.dt.weekday_name\n",
        "    df['month'] = df.pickup_datetime.dt.month\n",
        "    df['weekday_number'] = df.pickup_datetime.dt.weekday\n",
        "    df['pickup_hour'] = df.pickup_datetime.dt.hour"
      ],
      "execution_count": 0,
      "outputs": []
    },
    {
      "cell_type": "code",
      "metadata": {
        "id": "RDNgzAw11D5F",
        "colab_type": "code",
        "outputId": "47a06989-ff68-4e68-e298-360e51a1c89a",
        "colab": {
          "base_uri": "https://localhost:8080/",
          "height": 303
        }
      },
      "source": [
        "convert_datetime(train_df)\n",
        "train_df.head()"
      ],
      "execution_count": 0,
      "outputs": [
        {
          "output_type": "execute_result",
          "data": {
            "text/html": [
              "<div>\n",
              "<style scoped>\n",
              "    .dataframe tbody tr th:only-of-type {\n",
              "        vertical-align: middle;\n",
              "    }\n",
              "\n",
              "    .dataframe tbody tr th {\n",
              "        vertical-align: top;\n",
              "    }\n",
              "\n",
              "    .dataframe thead th {\n",
              "        text-align: right;\n",
              "    }\n",
              "</style>\n",
              "<table border=\"1\" class=\"dataframe\">\n",
              "  <thead>\n",
              "    <tr style=\"text-align: right;\">\n",
              "      <th></th>\n",
              "      <th>id</th>\n",
              "      <th>vendor_id</th>\n",
              "      <th>pickup_datetime</th>\n",
              "      <th>dropoff_datetime</th>\n",
              "      <th>passenger_count</th>\n",
              "      <th>pickup_longitude</th>\n",
              "      <th>pickup_latitude</th>\n",
              "      <th>dropoff_longitude</th>\n",
              "      <th>dropoff_latitude</th>\n",
              "      <th>store_and_fwd_flag</th>\n",
              "      <th>trip_duration</th>\n",
              "      <th>distance</th>\n",
              "      <th>speed</th>\n",
              "      <th>weekday</th>\n",
              "      <th>month</th>\n",
              "      <th>weekday_number</th>\n",
              "      <th>pickup_hour</th>\n",
              "    </tr>\n",
              "  </thead>\n",
              "  <tbody>\n",
              "    <tr>\n",
              "      <th>0</th>\n",
              "      <td>id2875421</td>\n",
              "      <td>2</td>\n",
              "      <td>2016-03-14 17:24:55</td>\n",
              "      <td>2016-03-14 17:32:30</td>\n",
              "      <td>1</td>\n",
              "      <td>-73.98</td>\n",
              "      <td>40.77</td>\n",
              "      <td>-73.96</td>\n",
              "      <td>40.77</td>\n",
              "      <td>N</td>\n",
              "      <td>455</td>\n",
              "      <td>1.50</td>\n",
              "      <td>11.86</td>\n",
              "      <td>Monday</td>\n",
              "      <td>3</td>\n",
              "      <td>0</td>\n",
              "      <td>17</td>\n",
              "    </tr>\n",
              "    <tr>\n",
              "      <th>1</th>\n",
              "      <td>id2377394</td>\n",
              "      <td>1</td>\n",
              "      <td>2016-06-12 00:43:35</td>\n",
              "      <td>2016-06-12 00:54:38</td>\n",
              "      <td>1</td>\n",
              "      <td>-73.98</td>\n",
              "      <td>40.74</td>\n",
              "      <td>-74.00</td>\n",
              "      <td>40.73</td>\n",
              "      <td>N</td>\n",
              "      <td>663</td>\n",
              "      <td>1.81</td>\n",
              "      <td>9.80</td>\n",
              "      <td>Sunday</td>\n",
              "      <td>6</td>\n",
              "      <td>6</td>\n",
              "      <td>0</td>\n",
              "    </tr>\n",
              "    <tr>\n",
              "      <th>2</th>\n",
              "      <td>id3858529</td>\n",
              "      <td>2</td>\n",
              "      <td>2016-01-19 11:35:24</td>\n",
              "      <td>2016-01-19 12:10:48</td>\n",
              "      <td>1</td>\n",
              "      <td>-73.98</td>\n",
              "      <td>40.76</td>\n",
              "      <td>-74.01</td>\n",
              "      <td>40.71</td>\n",
              "      <td>N</td>\n",
              "      <td>2124</td>\n",
              "      <td>6.39</td>\n",
              "      <td>10.82</td>\n",
              "      <td>Tuesday</td>\n",
              "      <td>1</td>\n",
              "      <td>1</td>\n",
              "      <td>11</td>\n",
              "    </tr>\n",
              "    <tr>\n",
              "      <th>3</th>\n",
              "      <td>id3504673</td>\n",
              "      <td>2</td>\n",
              "      <td>2016-04-06 19:32:31</td>\n",
              "      <td>2016-04-06 19:39:40</td>\n",
              "      <td>1</td>\n",
              "      <td>-74.01</td>\n",
              "      <td>40.72</td>\n",
              "      <td>-74.01</td>\n",
              "      <td>40.71</td>\n",
              "      <td>N</td>\n",
              "      <td>429</td>\n",
              "      <td>1.49</td>\n",
              "      <td>12.47</td>\n",
              "      <td>Wednesday</td>\n",
              "      <td>4</td>\n",
              "      <td>2</td>\n",
              "      <td>19</td>\n",
              "    </tr>\n",
              "    <tr>\n",
              "      <th>4</th>\n",
              "      <td>id2181028</td>\n",
              "      <td>2</td>\n",
              "      <td>2016-03-26 13:30:55</td>\n",
              "      <td>2016-03-26 13:38:10</td>\n",
              "      <td>1</td>\n",
              "      <td>-73.97</td>\n",
              "      <td>40.79</td>\n",
              "      <td>-73.97</td>\n",
              "      <td>40.78</td>\n",
              "      <td>N</td>\n",
              "      <td>435</td>\n",
              "      <td>1.19</td>\n",
              "      <td>9.84</td>\n",
              "      <td>Saturday</td>\n",
              "      <td>3</td>\n",
              "      <td>5</td>\n",
              "      <td>13</td>\n",
              "    </tr>\n",
              "  </tbody>\n",
              "</table>\n",
              "</div>"
            ],
            "text/plain": [
              "          id  vendor_id     pickup_datetime  ... month  weekday_number  pickup_hour\n",
              "0  id2875421          2 2016-03-14 17:24:55  ...     3               0           17\n",
              "1  id2377394          1 2016-06-12 00:43:35  ...     6               6            0\n",
              "2  id3858529          2 2016-01-19 11:35:24  ...     1               1           11\n",
              "3  id3504673          2 2016-04-06 19:32:31  ...     4               2           19\n",
              "4  id2181028          2 2016-03-26 13:30:55  ...     3               5           13\n",
              "\n",
              "[5 rows x 17 columns]"
            ]
          },
          "metadata": {
            "tags": []
          },
          "execution_count": 43
        }
      ]
    },
    {
      "cell_type": "markdown",
      "metadata": {
        "id": "7uqa8kMKeXHn",
        "colab_type": "text"
      },
      "source": [
        "## Creating Dummy Variables"
      ]
    },
    {
      "cell_type": "markdown",
      "metadata": {
        "id": "w6eI4MPqeqM2",
        "colab_type": "text"
      },
      "source": [
        "We can start training our model at this point. However, to add the model accuracy, we can convert our categorical data into dummy variables. We will use the function in Pandas library to make the change.\n",
        "\n",
        "Alternatively, we could have converted the categorical data into numerical data manually or by using some Scikit Learn tools such as "
      ]
    },
    {
      "cell_type": "code",
      "metadata": {
        "id": "qTkJ8_wT1WSO",
        "colab_type": "code",
        "colab": {}
      },
      "source": [
        "def create_dummy(df):\n",
        "  dummy = pd.get_dummies(df.store_and_fwd_flag, prefix='flag')\n",
        "  df = pd.concat([df,dummy],axis=1)\n",
        "\n",
        "  dummy = pd.get_dummies(df.vendor_id, prefix='vendor_id')\n",
        "  df = pd.concat([df,dummy],axis=1)\n",
        "\n",
        "  dummy = pd.get_dummies(df.passenger_count, prefix='passenger_count')\n",
        "  df = pd.concat([df,dummy],axis=1)\n",
        "\n",
        "  dummy = pd.get_dummies(df.month, prefix='month')\n",
        "  df = pd.concat([df,dummy],axis=1)\n",
        "  \n",
        "  dummy = pd.get_dummies(df.weekday_number, prefix='weekday_number')\n",
        "  df = pd.concat([df,dummy],axis=1)\n",
        "  \n",
        "  dummy = pd.get_dummies(df.pickup_hour, prefix='pickup_hour')\n",
        "  df = pd.concat([df,dummy],axis=1)\n",
        "  \n",
        "  return df"
      ],
      "execution_count": 0,
      "outputs": []
    },
    {
      "cell_type": "code",
      "metadata": {
        "id": "PZGo4Bc4u1na",
        "colab_type": "code",
        "colab": {}
      },
      "source": [
        "train_df = create_dummy(train_df)"
      ],
      "execution_count": 0,
      "outputs": []
    },
    {
      "cell_type": "code",
      "metadata": {
        "id": "CpnCuKs01hRQ",
        "colab_type": "code",
        "outputId": "608317cd-be01-4042-c27c-6c4873153494",
        "colab": {
          "base_uri": "https://localhost:8080/",
          "height": 32
        }
      },
      "source": [
        "train_df.shape"
      ],
      "execution_count": 0,
      "outputs": [
        {
          "output_type": "execute_result",
          "data": {
            "text/plain": [
              "(1452035, 64)"
            ]
          },
          "metadata": {
            "tags": []
          },
          "execution_count": 46
        }
      ]
    },
    {
      "cell_type": "code",
      "metadata": {
        "id": "lyTTza6IZ8CJ",
        "colab_type": "code",
        "outputId": "055987c2-7dc2-4f32-b2b6-1470dba63c8c",
        "colab": {
          "base_uri": "https://localhost:8080/",
          "height": 1000
        }
      },
      "source": [
        "# get the index of the features and label\n",
        "list(zip(range(0,len(train_df.columns)),train_df.columns))"
      ],
      "execution_count": 0,
      "outputs": [
        {
          "output_type": "execute_result",
          "data": {
            "text/plain": [
              "[(0, 'id'),\n",
              " (1, 'vendor_id'),\n",
              " (2, 'pickup_datetime'),\n",
              " (3, 'dropoff_datetime'),\n",
              " (4, 'passenger_count'),\n",
              " (5, 'pickup_longitude'),\n",
              " (6, 'pickup_latitude'),\n",
              " (7, 'dropoff_longitude'),\n",
              " (8, 'dropoff_latitude'),\n",
              " (9, 'store_and_fwd_flag'),\n",
              " (10, 'trip_duration'),\n",
              " (11, 'distance'),\n",
              " (12, 'speed'),\n",
              " (13, 'weekday'),\n",
              " (14, 'month'),\n",
              " (15, 'weekday_number'),\n",
              " (16, 'pickup_hour'),\n",
              " (17, 'flag_N'),\n",
              " (18, 'flag_Y'),\n",
              " (19, 'vendor_id_1'),\n",
              " (20, 'vendor_id_2'),\n",
              " (21, 'passenger_count_1'),\n",
              " (22, 'passenger_count_2'),\n",
              " (23, 'passenger_count_3'),\n",
              " (24, 'passenger_count_4'),\n",
              " (25, 'passenger_count_5'),\n",
              " (26, 'passenger_count_6'),\n",
              " (27, 'month_1'),\n",
              " (28, 'month_2'),\n",
              " (29, 'month_3'),\n",
              " (30, 'month_4'),\n",
              " (31, 'month_5'),\n",
              " (32, 'month_6'),\n",
              " (33, 'weekday_number_0'),\n",
              " (34, 'weekday_number_1'),\n",
              " (35, 'weekday_number_2'),\n",
              " (36, 'weekday_number_3'),\n",
              " (37, 'weekday_number_4'),\n",
              " (38, 'weekday_number_5'),\n",
              " (39, 'weekday_number_6'),\n",
              " (40, 'pickup_hour_0'),\n",
              " (41, 'pickup_hour_1'),\n",
              " (42, 'pickup_hour_2'),\n",
              " (43, 'pickup_hour_3'),\n",
              " (44, 'pickup_hour_4'),\n",
              " (45, 'pickup_hour_5'),\n",
              " (46, 'pickup_hour_6'),\n",
              " (47, 'pickup_hour_7'),\n",
              " (48, 'pickup_hour_8'),\n",
              " (49, 'pickup_hour_9'),\n",
              " (50, 'pickup_hour_10'),\n",
              " (51, 'pickup_hour_11'),\n",
              " (52, 'pickup_hour_12'),\n",
              " (53, 'pickup_hour_13'),\n",
              " (54, 'pickup_hour_14'),\n",
              " (55, 'pickup_hour_15'),\n",
              " (56, 'pickup_hour_16'),\n",
              " (57, 'pickup_hour_17'),\n",
              " (58, 'pickup_hour_18'),\n",
              " (59, 'pickup_hour_19'),\n",
              " (60, 'pickup_hour_20'),\n",
              " (61, 'pickup_hour_21'),\n",
              " (62, 'pickup_hour_22'),\n",
              " (63, 'pickup_hour_23')]"
            ]
          },
          "metadata": {
            "tags": []
          },
          "execution_count": 47
        }
      ]
    },
    {
      "cell_type": "code",
      "metadata": {
        "id": "bDwPW9fcZg1E",
        "colab_type": "code",
        "outputId": "44dd474b-b204-4617-cb44-a43584598cdc",
        "colab": {
          "base_uri": "https://localhost:8080/",
          "height": 85
        }
      },
      "source": [
        "# drop all the redundant columns such as pickup_datetime, weekday, month etc.\n",
        "# and drop unneeded features such as id, speed (a dependant of duration)\n",
        "# also seperate features with labels\n",
        "\n",
        "X_train_set = train_df.iloc[:,np.r_[11,17:64]]\n",
        "y_train_set = train_df[\"trip_duration\"].copy()\n",
        "\n",
        "# General equation for multiple linear regression usually includes the constant value, \n",
        "# so we will add \"1\" to each instance first \n",
        "X_train_set = sm.add_constant(X_train_set)\n",
        "print(X_train_set.shape)"
      ],
      "execution_count": 0,
      "outputs": [
        {
          "output_type": "stream",
          "text": [
            "/usr/local/lib/python3.6/dist-packages/numpy/core/fromnumeric.py:2495: FutureWarning: Method .ptp is deprecated and will be removed in a future version. Use numpy.ptp instead.\n",
            "  return ptp(axis=axis, out=out, **kwargs)\n"
          ],
          "name": "stderr"
        },
        {
          "output_type": "stream",
          "text": [
            "(1452035, 49)\n"
          ],
          "name": "stdout"
        }
      ]
    },
    {
      "cell_type": "markdown",
      "metadata": {
        "id": "KTAiD_xqIo5x",
        "colab_type": "text"
      },
      "source": [
        "## Backward Feature selection"
      ]
    },
    {
      "cell_type": "markdown",
      "metadata": {
        "id": "fuS1xFgZLRCh",
        "colab_type": "text"
      },
      "source": [
        "\n",
        "We will run linear regression multiple time by using different combination of features and check p value of each regression iteration until we reach the level of p value that is less than 5%. If the regression p value is greater than 5%, we will reject the feature from the list of array and continue with next iteration until we reach the optimal combination of features."
      ]
    },
    {
      "cell_type": "code",
      "metadata": {
        "id": "l0Bx7kZxQPUw",
        "colab_type": "code",
        "colab": {}
      },
      "source": [
        "X_train_opt = X_train_set\n",
        "\n",
        "est = sm.OLS(y_train_set, X_train_opt)\n",
        "est2 = est.fit()\n"
      ],
      "execution_count": 0,
      "outputs": []
    },
    {
      "cell_type": "code",
      "metadata": {
        "id": "SpILBV169n03",
        "colab_type": "code",
        "outputId": "b7064638-09f2-4184-cb3b-0725a0366a22",
        "colab": {
          "base_uri": "https://localhost:8080/",
          "height": 32
        }
      },
      "source": [
        "X_train_opt.shape"
      ],
      "execution_count": 0,
      "outputs": [
        {
          "output_type": "execute_result",
          "data": {
            "text/plain": [
              "(1452035, 49)"
            ]
          },
          "metadata": {
            "tags": []
          },
          "execution_count": 77
        }
      ]
    },
    {
      "cell_type": "code",
      "metadata": {
        "id": "Bqke6O2qSgWh",
        "colab_type": "code",
        "colab": {}
      },
      "source": [
        "# fetch p-value\n",
        "p_Vals = est2.pvalues\n",
        "print(p_Vals)"
      ],
      "execution_count": 0,
      "outputs": []
    },
    {
      "cell_type": "code",
      "metadata": {
        "id": "1orhsLDzOKo_",
        "colab_type": "code",
        "colab": {}
      },
      "source": [
        "# Define significance level for accepting the feature.\n",
        "sig_Level = 0.05\n",
        "\n",
        "# Looping over features and remove the feature with p value less than the 5%\n",
        "while max(p_Vals) > sig_Level:\n",
        "    \n",
        "    X_train_opt = X_train_opt.drop(X_train_opt.columns[np.argmax(np.array(p_Vals))],axis=1)\n",
        "\n",
        "    print(\"\\n\")\n",
        "    print(\"Feature at index {} is removed \\n\".format(str(np.argmax(np.array(p_Vals)))))\n",
        "    print(str(X_train_opt.shape[1]-1) + \" dimensions remaining now... \\n\")\n",
        "    \n",
        "    est = sm.OLS(y_train_set, X_train_opt)\n",
        "    est2 = est.fit()\n",
        "    p_Vals = est2.pvalues\n",
        "    print(\"=================================================================\\n\")\n"
      ],
      "execution_count": 0,
      "outputs": []
    },
    {
      "cell_type": "code",
      "metadata": {
        "id": "4Jv-4wFf-C4B",
        "colab_type": "code",
        "colab": {}
      },
      "source": [
        "#Print final summary\n",
        "print(\"Final stat summary with optimal {} features\".format(str(X_train_opt.shape[1]-1)))\n",
        "print(est2.pvalues)"
      ],
      "execution_count": 0,
      "outputs": []
    },
    {
      "cell_type": "markdown",
      "metadata": {
        "id": "j-Y9LSxEmCDW",
        "colab_type": "text"
      },
      "source": [
        "# Modelling"
      ]
    },
    {
      "cell_type": "markdown",
      "metadata": {
        "id": "FFMZCBXSARZ2",
        "colab_type": "text"
      },
      "source": [
        "## Linear Regression"
      ]
    },
    {
      "cell_type": "markdown",
      "metadata": {
        "id": "YI6uIrjCAZ8U",
        "colab_type": "text"
      },
      "source": [
        "### Using all features"
      ]
    },
    {
      "cell_type": "code",
      "metadata": {
        "id": "KP4gGNVkqhbC",
        "colab_type": "code",
        "colab": {}
      },
      "source": [
        "# Split data from the all features\n",
        "X_train_all, X_test_all, y_train_all, y_test_all = train_test_split(X_train_set,y_train_set, random_state=4, test_size=0.2)"
      ],
      "execution_count": 0,
      "outputs": []
    },
    {
      "cell_type": "code",
      "metadata": {
        "id": "7eAUenr0WdvD",
        "colab_type": "code",
        "outputId": "169c66a4-e3a1-4c14-f24b-7a2bd5ae6d99",
        "colab": {
          "base_uri": "https://localhost:8080/",
          "height": 32
        }
      },
      "source": [
        "# Linear regressor for all features\n",
        "regressor0 = LinearRegression() \n",
        "regressor0.fit(X_train_all,y_train_all) "
      ],
      "execution_count": 0,
      "outputs": [
        {
          "output_type": "execute_result",
          "data": {
            "text/plain": [
              "LinearRegression(copy_X=True, fit_intercept=True, n_jobs=None, normalize=False)"
            ]
          },
          "metadata": {
            "tags": []
          },
          "execution_count": 82
        }
      ]
    },
    {
      "cell_type": "code",
      "metadata": {
        "id": "NX9cDLCzXBZR",
        "colab_type": "code",
        "colab": {}
      },
      "source": [
        "# Predict from the test features of Feature Selection group\n",
        "y_pred_all = regressor0.predict(X_test_all) "
      ],
      "execution_count": 0,
      "outputs": []
    },
    {
      "cell_type": "markdown",
      "metadata": {
        "id": "-moWpbosAewC",
        "colab_type": "text"
      },
      "source": [
        "### Using the selected features"
      ]
    },
    {
      "cell_type": "code",
      "metadata": {
        "id": "QxDuRHD7_ByT",
        "colab_type": "code",
        "colab": {}
      },
      "source": [
        "# Split data from the feature selection group\n",
        "X_train_fs, X_test_fs, y_train_fs, y_test_fs = train_test_split(X_train_opt,y_train_set, random_state=4, test_size=0.2)"
      ],
      "execution_count": 0,
      "outputs": []
    },
    {
      "cell_type": "code",
      "metadata": {
        "id": "89S9nMgR_Vb4",
        "colab_type": "code",
        "outputId": "3dc5f691-c11a-4f6a-974b-4ff174fded19",
        "colab": {
          "base_uri": "https://localhost:8080/",
          "height": 32
        }
      },
      "source": [
        "# Linear regressor for the Feature selection group\n",
        "regressor1 = LinearRegression() \n",
        "regressor1.fit(X_train_fs,y_train_fs) "
      ],
      "execution_count": 0,
      "outputs": [
        {
          "output_type": "execute_result",
          "data": {
            "text/plain": [
              "LinearRegression(copy_X=True, fit_intercept=True, n_jobs=None, normalize=False)"
            ]
          },
          "metadata": {
            "tags": []
          },
          "execution_count": 85
        }
      ]
    },
    {
      "cell_type": "code",
      "metadata": {
        "id": "A_wictRz_eVL",
        "colab_type": "code",
        "colab": {}
      },
      "source": [
        "# Predict from the test features of Feature Selection group\n",
        "y_pred_fs = regressor1.predict(X_test_fs) "
      ],
      "execution_count": 0,
      "outputs": []
    },
    {
      "cell_type": "code",
      "metadata": {
        "id": "wsKguu29_j2C",
        "colab_type": "code",
        "outputId": "8084d57c-2d19-472c-bcf4-72302cbfed9d",
        "colab": {
          "base_uri": "https://localhost:8080/",
          "height": 148
        }
      },
      "source": [
        "# Evaluate the models\n",
        "\n",
        "print('RMSE score for the Multiple LR using all features is : {}'.format(np.sqrt(metrics.mean_squared_error(y_test_all,y_pred_all))))\n",
        "print('Variance score for the Multiple LR is : %.2f' % regressor0.score(X_test_all, y_test_all))\n",
        "print(\"\\n\")\n",
        "\n",
        "print('RMSE score for the Multiple LR FS is : {}'.format(np.sqrt(metrics.mean_squared_error(y_test_fs,y_pred_fs))))\n",
        "print('Variance score for the Multiple LR FS is : %.2f' % regressor1.score(X_test_fs, y_test_fs))\n",
        "print(\"\\n\")"
      ],
      "execution_count": 0,
      "outputs": [
        {
          "output_type": "stream",
          "text": [
            "RMSE score for the Multiple LR using all features is : 3113.4180587693063\n",
            "Variance score for the Multiple LR is : 0.03\n",
            "\n",
            "\n",
            "RMSE score for the Multiple LR FS is : 3113.408582850768\n",
            "Variance score for the Multiple LR FS is : 0.03\n",
            "\n",
            "\n"
          ],
          "name": "stdout"
        }
      ]
    },
    {
      "cell_type": "code",
      "metadata": {
        "id": "inbZaIlG4tNZ",
        "colab_type": "code",
        "colab": {}
      },
      "source": [
        "corr_matrix = train_df.corr()\n",
        "corr_matrix[\"trip_duration\"].sort_values(ascending=False)"
      ],
      "execution_count": 0,
      "outputs": []
    },
    {
      "cell_type": "markdown",
      "metadata": {
        "id": "eQWvg093bINM",
        "colab_type": "text"
      },
      "source": [
        "## Random Forest Regression"
      ]
    },
    {
      "cell_type": "code",
      "metadata": {
        "id": "SkA-UV2hUQ4c",
        "colab_type": "code",
        "outputId": "9dcc6cf3-2048-4993-be3d-85d590c5db40",
        "colab": {
          "base_uri": "https://localhost:8080/",
          "height": 217
        }
      },
      "source": [
        "# Tnstantiate() the object for the Random Forest Regressor with default params from raw data\n",
        "regressor_rf_full = RandomForestRegressor(n_jobs=-1)\n",
        "\n",
        "# Instantiate() the object for the Random Forest Regressor with default params for Feature Selection Group\n",
        "regressor_rf_fs = RandomForestRegressor(n_jobs=-1)\n",
        "\n",
        "# Train the object with default params for raw data\n",
        "regressor_rf_full.fit(X_train_all,y_train_all)\n",
        "\n",
        "# Train the object with default params for Feature Selection Group\n",
        "regressor_rf_fs.fit(X_train_fs,y_train_fs)"
      ],
      "execution_count": 0,
      "outputs": [
        {
          "output_type": "stream",
          "text": [
            "/usr/local/lib/python3.6/dist-packages/sklearn/ensemble/forest.py:245: FutureWarning: The default value of n_estimators will change from 10 in version 0.20 to 100 in 0.22.\n",
            "  \"10 in version 0.20 to 100 in 0.22.\", FutureWarning)\n",
            "/usr/local/lib/python3.6/dist-packages/sklearn/ensemble/forest.py:245: FutureWarning: The default value of n_estimators will change from 10 in version 0.20 to 100 in 0.22.\n",
            "  \"10 in version 0.20 to 100 in 0.22.\", FutureWarning)\n"
          ],
          "name": "stderr"
        },
        {
          "output_type": "execute_result",
          "data": {
            "text/plain": [
              "RandomForestRegressor(bootstrap=True, criterion='mse', max_depth=None,\n",
              "                      max_features='auto', max_leaf_nodes=None,\n",
              "                      min_impurity_decrease=0.0, min_impurity_split=None,\n",
              "                      min_samples_leaf=1, min_samples_split=2,\n",
              "                      min_weight_fraction_leaf=0.0, n_estimators=10, n_jobs=-1,\n",
              "                      oob_score=False, random_state=None, verbose=0,\n",
              "                      warm_start=False)"
            ]
          },
          "metadata": {
            "tags": []
          },
          "execution_count": 109
        }
      ]
    },
    {
      "cell_type": "code",
      "metadata": {
        "id": "GLlcGgrdlY8y",
        "colab_type": "code",
        "colab": {}
      },
      "source": [
        "#Predict the output with object of default params for Feature Selection Group\n",
        "y_pred_rf_full = regressor_rf_full.predict(X_test_all)\n",
        "\n",
        "#Predict the output with object of default params for Feature Selection Group\n",
        "y_pred_rf_fs = regressor_rf_fs.predict(X_test_fs)\n"
      ],
      "execution_count": 0,
      "outputs": []
    },
    {
      "cell_type": "code",
      "metadata": {
        "id": "pKcfco1Nrqxo",
        "colab_type": "code",
        "outputId": "e8fdf5d3-f3fa-45a1-e19d-513b1102fb3f",
        "colab": {
          "base_uri": "https://localhost:8080/",
          "height": 32
        }
      },
      "source": [
        "type(regressor_rf_fs)"
      ],
      "execution_count": 0,
      "outputs": [
        {
          "output_type": "execute_result",
          "data": {
            "text/plain": [
              "sklearn.ensemble.forest.RandomForestRegressor"
            ]
          },
          "metadata": {
            "tags": []
          },
          "execution_count": 112
        }
      ]
    },
    {
      "cell_type": "code",
      "metadata": {
        "id": "BO75Nlrglk6m",
        "colab_type": "code",
        "outputId": "865a5072-6067-47ec-9f47-675eedea9ff1",
        "colab": {
          "base_uri": "https://localhost:8080/",
          "height": 49
        }
      },
      "source": [
        "print(np.sqrt(metrics.mean_squared_error(y_test_all,y_pred_rf_full)))\n",
        "print(np.sqrt(metrics.mean_squared_error(y_test_fs,y_pred_rf_fs)))"
      ],
      "execution_count": 0,
      "outputs": [
        {
          "output_type": "stream",
          "text": [
            "3479.9442814151234\n",
            "3478.5577425118245\n"
          ],
          "name": "stdout"
        }
      ]
    }
  ]
}